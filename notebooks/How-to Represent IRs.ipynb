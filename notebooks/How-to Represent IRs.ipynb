{
 "cells": [
  {
   "cell_type": "code",
   "execution_count": 1,
   "metadata": {},
   "outputs": [],
   "source": [
    "import asdl\n",
    "from types import ModuleType\n",
    "def _asdl_parse(str):\n",
    "    parser = asdl.ASDLParser()\n",
    "    module = parser.parse(str)\n",
    "    return module"
   ]
  },
  {
   "cell_type": "markdown",
   "metadata": {},
   "source": [
    "ASDL itself has a grammar that looks like\n",
    "\n",
    "```\n",
    "module        ::= \"module\" Id \"{\" [definitions] \"}\"\n",
    "definitions   ::= { TypeId \"=\" type }\n",
    "type          ::= product | sum\n",
    "product       ::= fields [\"attributes\" fields]\n",
    "fields        ::= \"(\" { field, \",\" } field \")\"\n",
    "field         ::= TypeId [\"?\" | \"*\"] [Id]\n",
    "sum           ::= constructor { \"|\" constructor } [\"attributes\" fields]\n",
    "constructor   ::= ConstructorId [fields]\n",
    "```\n",
    "\n",
    "At the top level is the module, with an `Id` and a list of definitions, each of which defines a `type`, which is either a `product` (nameless typed-tuple) or a `sum`.\n",
    "\n",
    "The ASDL module from the Python compiler has a way to `check` for well-formedness of the parsed ASDL description.  However, it's (a) not used for Python itself, and (b) has some constraints we want to slightly violate.  Instead, we'll verify the output of `_asdl_parse` ourselves."
   ]
  },
  {
   "cell_type": "markdown",
   "metadata": {},
   "source": [
    "# An Example Grammar"
   ]
  },
  {
   "cell_type": "markdown",
   "metadata": {},
   "source": [
    "Consider the following simple language of polynomials as an example.  We would like to be able to represent expressions like `x*x + 32`"
   ]
  },
  {
   "cell_type": "code",
   "execution_count": 2,
   "metadata": {},
   "outputs": [],
   "source": [
    "Poly = _asdl_parse(\"\"\"\n",
    "module Poly\n",
    "{\n",
    "  expr = Var(string name)\n",
    "       | Const(float val)\n",
    "       | Add(expr lhs, expr rhs)\n",
    "       | Mul(expr lhs, expr rhs)\n",
    "       attributes (srcinfo? loc)\n",
    "\n",
    "  srcinfo  = (string input, int offset)\n",
    "}\n",
    "\"\"\")"
   ]
  },
  {
   "cell_type": "code",
   "execution_count": 3,
   "metadata": {},
   "outputs": [
    {
     "data": {
      "text/plain": [
       "(asdl.Module,\n",
       " {'name': 'Poly',\n",
       "  'dfns': [Type(expr, Sum([Constructor(Var, [Field(string, name)]), Constructor(Const, [Field(float, val)]), Constructor(Add, [Field(expr, lhs), Field(expr, rhs)]), Constructor(Mul, [Field(expr, lhs), Field(expr, rhs)])], [Field(srcinfo, loc, opt=True)])),\n",
       "   Type(srcinfo, Product([Field(string, input), Field(int, offset)]))],\n",
       "  'types': {'expr': Sum([Constructor(Var, [Field(string, name)]), Constructor(Const, [Field(float, val)]), Constructor(Add, [Field(expr, lhs), Field(expr, rhs)]), Constructor(Mul, [Field(expr, lhs), Field(expr, rhs)])], [Field(srcinfo, loc, opt=True)]),\n",
       "   'srcinfo': Product([Field(string, input), Field(int, offset)])}})"
      ]
     },
     "execution_count": 3,
     "metadata": {},
     "output_type": "execute_result"
    }
   ],
   "source": [
    "type(Poly), Poly.__dict__"
   ]
  },
  {
   "cell_type": "markdown",
   "metadata": {},
   "source": [
    "The ASDL parser converts the above description string into an ASDL-AST, not into anything operationally useful in Python code.  We need to somehow extract useful information from this AST and construct Python tools/code from it.  There are two entries, `'dfns'` and `'types'` that we can get useful bits from.  Of these, the `'types'` entry is slightly more processed."
   ]
  },
  {
   "cell_type": "markdown",
   "metadata": {},
   "source": [
    "-----"
   ]
  },
  {
   "cell_type": "markdown",
   "metadata": {},
   "source": [
    "Now consider our example expression `x*x + 32`.  Presumably we want some kind of python object structure that looks something like...\n",
    "\n",
    "```\n",
    "Add {\n",
    "  lhs = Mul {\n",
    "          lhs = Var { name = \"x\" },\n",
    "          rhs = Var { name = \"x\" }\n",
    "        },\n",
    "  rhs = Const { val = 32 }\n",
    "}\n",
    "```\n",
    "(where the optional `srcinfo` annotations have been suppressed)\n",
    "\n",
    "This suggests that we might want to somehow provide some classes out of which this object-tree can actually be constructed."
   ]
  },
  {
   "cell_type": "code",
   "execution_count": 4,
   "metadata": {},
   "outputs": [],
   "source": [
    "class expr():\n",
    "    def __init__(self):\n",
    "        assert false, \"do not instantiate expr directly\"\n",
    "\n",
    "class Var(expr):\n",
    "    def __init__(self, name):\n",
    "        assert isinstance(name, str), \"expected string as name\"\n",
    "        self.name = name\n",
    "    def __repr__(self):\n",
    "        return f'Var(name={self.name!r})'\n",
    "\n",
    "class Const(expr):\n",
    "    def __init__(self, val):\n",
    "        assert isinstance(val, int), \"expected int as val\"\n",
    "        self.val = val\n",
    "    def __repr__(self):\n",
    "        return f'Const(val={self.val!r})'\n",
    "\n",
    "class Add(expr):\n",
    "    def __init__(self, lhs, rhs):\n",
    "        assert isinstance(lhs, expr), \"expected expr as lhs\"\n",
    "        assert isinstance(rhs, expr), \"expected expr as rhs\"\n",
    "        self.lhs = lhs\n",
    "        self.rhs = rhs\n",
    "    def __repr__(self):\n",
    "        return f'Add(lhs={self.lhs!r},rhs={self.rhs!r})'\n",
    "\n",
    "class Mul(expr):\n",
    "    def __init__(self, lhs, rhs):\n",
    "        assert isinstance(lhs, expr), \"expected expr as lhs\"\n",
    "        assert isinstance(rhs, expr), \"expected expr as rhs\"\n",
    "        self.lhs = lhs\n",
    "        self.rhs = rhs\n",
    "    def __repr__(self):\n",
    "        return f'Mul(lhs={self.lhs!r},rhs={self.rhs!r})'"
   ]
  },
  {
   "cell_type": "code",
   "execution_count": 5,
   "metadata": {},
   "outputs": [
    {
     "data": {
      "text/plain": [
       "Add(lhs=Mul(lhs=Var(name='x'),rhs=Var(name='x')),rhs=Const(val=32))"
      ]
     },
     "execution_count": 5,
     "metadata": {},
     "output_type": "execute_result"
    }
   ],
   "source": [
    "x    = Var(\"x\")\n",
    "xx   = Mul(x,x)\n",
    "xx32 = Add(xx,Const(32))\n",
    "xx32"
   ]
  },
  {
   "cell_type": "markdown",
   "metadata": {},
   "source": [
    "Ultimately, we might want a better error checking mechanism than a bunch of asserts, but the basic idea is well sketched out.  We want to realize the ASDL grammar into the Python type system, including smart use of sub-classing, and at least equipped with some minimal type-checking.  And we should be able to get at least a rudimentary string representation for inspection and serialization.\n",
    "\n",
    "What we've just done is sketch out the concrete output we want for the specific instance of the `Poly` asdl.  However, what we are now going to try to write should work for _any_ ASDL, not just `Poly`."
   ]
  },
  {
   "cell_type": "markdown",
   "metadata": {},
   "source": [
    "# Constructing the Constructors"
   ]
  },
  {
   "cell_type": "markdown",
   "metadata": {},
   "source": [
    "To begin, let's extract all of the types from the module and construct a corresponding (super-)class for each one.  In doing so, we will need to distinguish between `Sum`s and `Product`s.  The `Sum`s are non-instantiable super-classes, but the `Product`s will end up being constructors themselves."
   ]
  },
  {
   "cell_type": "code",
   "execution_count": 6,
   "metadata": {},
   "outputs": [],
   "source": [
    "def _build_superclasses(asdl_mod):\n",
    "    scs = {}\n",
    "    def create_invalid_init(nm):\n",
    "        def invalid_init(self):\n",
    "            assert false, f\"{nm} should never be instantiated\"\n",
    "        return invalid_init\n",
    "    \n",
    "    for nm,v in asdl_mod.types.items():\n",
    "        if isinstance(v,asdl.Sum):\n",
    "            scs[nm] = type(nm,(),{\"__init__\" : create_invalid_init(nm)})\n",
    "        elif isinstance(v,asdl.Product):\n",
    "            scs[nm] = type(nm,(),{})\n",
    "    return scs"
   ]
  },
  {
   "cell_type": "code",
   "execution_count": 7,
   "metadata": {},
   "outputs": [
    {
     "data": {
      "text/plain": [
       "{'expr': __main__.expr, 'srcinfo': __main__.srcinfo}"
      ]
     },
     "execution_count": 7,
     "metadata": {},
     "output_type": "execute_result"
    }
   ],
   "source": [
    "Poly_SCs = _build_superclasses(Poly)\n",
    "Poly_SCs"
   ]
  },
  {
   "cell_type": "markdown",
   "metadata": {},
   "source": [
    "The typing of fields in various sum-constructors and products of the ASDL either refers to these superclasses (aka. _types_) or to some externalized _builtin_ types.  We know how to check whether an object is of one of these newly created types (just use `isinstance`) but we don't necessarily know what it means to be a `string` or an `int`.  On the other hand, we do know what it should mean for some basic types built into Python.\n",
    "\n",
    "All together, this suggests that we need an extensible mechanism for appealing to built-in (or externalized) object type checking."
   ]
  },
  {
   "cell_type": "code",
   "execution_count": 8,
   "metadata": {},
   "outputs": [],
   "source": [
    "_builtin_checks = {\n",
    "    'string'  : lambda x: type(x) is str,\n",
    "    'int'     : lambda x: type(x) is int,\n",
    "    'object'  : lambda x: x is not None,\n",
    "    'float'   : lambda x: type(x) is float,\n",
    "    'bool'    : lambda x: type(x) is bool,\n",
    "}\n",
    "\n",
    "def _build_checks(asdl_mod, scs, ext_checks):\n",
    "    checks = _builtin_checks.copy()\n",
    "    def make_check(sc):\n",
    "        return lambda x: isinstance(x,sc)\n",
    "    \n",
    "    for nm in ext_checks:\n",
    "        checks[nm] = ext_checks[nm]\n",
    "    for nm in scs:\n",
    "        assert not nm in checks, f\"Name conflict for type '{nm}'\"\n",
    "        sc = scs[nm]\n",
    "        checks[nm] = make_check(sc)\n",
    "    return checks"
   ]
  },
  {
   "cell_type": "code",
   "execution_count": 9,
   "metadata": {},
   "outputs": [],
   "source": [
    "Poly_checks = _build_checks(Poly, Poly_SCs, {})"
   ]
  },
  {
   "cell_type": "markdown",
   "metadata": {},
   "source": [
    "Observe above.  By staging the construction of stub-classes corresponding to the types first, we were then able to construct all of the `checks` functions that we'll need to check whether or not a Python object satisfies the `Poly` grammar, or whichever other grammar we specified in ASDL.  However, we haven't built the actual constructors yet.\n",
    "\n",
    "This particular sequencing of the construction is necessary, and a common pattern in compiler design when working with mutually recursive objects (which ASDL grammars are).  If you fail to identify a safe stage 1 that breaks apart the recursion in stage 2, you'll find yourself (and your execution) tying yourself in knots."
   ]
  },
  {
   "cell_type": "code",
   "execution_count": 10,
   "metadata": {},
   "outputs": [],
   "source": [
    "def _build_classes(asdl_mod, ext_checks={}):\n",
    "    SC   = _build_superclasses(asdl_mod)\n",
    "    CHK  = _build_checks(asdl_mod, SC, ext_checks)\n",
    "    \n",
    "    mod  = ModuleType(asdl_mod.name)\n",
    "    \n",
    "    Err  = type(asdl_mod.name+\"Err\",(Exception,),{})\n",
    "    \n",
    "    def basic_check(i,name,typ,indent=\"    \"):\n",
    "        typname = typ\n",
    "        if typ in SC:\n",
    "            typname = asdl_mod.name + \".\" + typ\n",
    "        return (f\"{indent}if not CHK['{typ}']({name}):\\n\"\n",
    "                f\"{indent}    raise Err(\"\n",
    "                f\"'expected arg {i} \\\"{name}\\\" \"\n",
    "                f\"to be type \\\"{typname}\\\"')\")\n",
    "    def opt_check(i,name,typ,indent=\"    \"):\n",
    "        subidnt = indent + '    '\n",
    "        return (f\"{indent}if {name} is not None:\\n\"\n",
    "                f\"{basic_check(i,name,typ,subidnt)}\")\n",
    "    def seq_check(i,name,typ,indent=\"    \"):\n",
    "        subidnt = indent + '        '\n",
    "        return (f\"{indent}if type({name}) is list:\\n\"\n",
    "                f\"{indent}    for j,e in enumerate({name}):\\n\"\n",
    "                f\"{basic_check(i,name+'[j]',typ,subidnt)}\")\n",
    "    \n",
    "    def create_initfn(C_name, fields):\n",
    "        argstr   = ', '.join([ f.name for f in fields ])\n",
    "        checks   = '\\n'.join([\n",
    "            seq_check(i,f.name,f.type) if f.seq else\n",
    "            opt_check(i,f.name,f.type) if f.opt else\n",
    "            basic_check(i,f.name,f.type)\n",
    "            for i,f in enumerate(fields)\n",
    "        ])\n",
    "        assign   = '\\n    '.join([\n",
    "            f\"self.{f.name} = {f.name}\"\n",
    "            for f in fields\n",
    "        ])\n",
    "        if len(fields) == 0:\n",
    "            checks = \"    pass\"\n",
    "            assign = \"pass\"\n",
    "        \n",
    "        exec_out = { 'Err': Err, 'CHK': CHK }\n",
    "        exec_str = (f\"def {C_name}_init(self,{argstr}):\"\n",
    "                    f\"\\n{checks}\"\n",
    "                    f\"\\n    {assign}\")\n",
    "        # un-comment this line to see what's\n",
    "        # really going on\n",
    "        #print(exec_str)\n",
    "        exec(exec_str, exec_out)\n",
    "        return exec_out[C_name + '_init']\n",
    "    \n",
    "    def create_reprfn(C_name, fields):\n",
    "        prints   = ','.join([\n",
    "            f\"{f.name}={{self.{f.name}}}\"\n",
    "            for f in fields\n",
    "        ])\n",
    "        exec_out = { 'Err': Err }\n",
    "        exec_str = (f\"def {C_name}_repr(self):\"\n",
    "                    f\"\\n    return f\\\"{C_name}({prints})\\\"\")\n",
    "        # un-comment this line to see what's\n",
    "        # really going on\n",
    "        #print(exec_str)\n",
    "        exec(exec_str, exec_out)\n",
    "        return exec_out[C_name + '_repr']\n",
    "        \n",
    "    def create_prod(nm,t):\n",
    "        C          = SC[nm]\n",
    "        fields     = t.fields\n",
    "        C.__init__ = create_initfn(nm,fields)\n",
    "        C.__repr__ = create_reprfn(nm,fields)\n",
    "        return C\n",
    "    \n",
    "    def create_sum_constructor(tname,cname,T,fields):\n",
    "        C          = type(cname,(T,),{\n",
    "            '__init__' : create_initfn(cname,fields),\n",
    "            '__repr__' : create_reprfn(cname,fields),\n",
    "        })\n",
    "        return C\n",
    "    \n",
    "    def create_sum(typ_name,t):\n",
    "        T          = SC[typ_name]\n",
    "        afields    = t.attributes\n",
    "        for c in t.types:\n",
    "            C      = create_sum_constructor(\n",
    "                        typ_name, c.name, T,\n",
    "                        c.fields + afields )\n",
    "            assert (not hasattr(mod,c.name)), (\n",
    "                f\"name '{c.name}' conflict in module '{mod}'\")\n",
    "            setattr(T,c.name,C)\n",
    "            setattr(mod,c.name,C)\n",
    "        return T\n",
    "    \n",
    "    for nm,t in asdl_mod.types.items():\n",
    "        if isinstance(t,asdl.Product):\n",
    "            setattr(mod,nm,create_prod(nm,t))\n",
    "        elif isinstance(t,asdl.Sum):\n",
    "            setattr(mod,nm,create_sum(nm,t))\n",
    "        else: assert false, \"unexpected kind of asdl type\"\n",
    "            \n",
    "    return mod"
   ]
  },
  {
   "cell_type": "markdown",
   "metadata": {},
   "source": [
    "The above function includes a lot of complicated meta-programming of the classes we're looking to generate.  The result is a module object with entries for all of the constructors."
   ]
  },
  {
   "cell_type": "code",
   "execution_count": 11,
   "metadata": {},
   "outputs": [
    {
     "data": {
      "text/plain": [
       "(<module 'Poly'>,\n",
       " {'__name__': 'Poly',\n",
       "  '__doc__': None,\n",
       "  '__package__': None,\n",
       "  '__loader__': None,\n",
       "  '__spec__': None,\n",
       "  'Var': __main__.Var,\n",
       "  'Const': __main__.Const,\n",
       "  'Add': __main__.Add,\n",
       "  'Mul': __main__.Mul,\n",
       "  'expr': __main__.expr,\n",
       "  'srcinfo': __main__.srcinfo})"
      ]
     },
     "execution_count": 11,
     "metadata": {},
     "output_type": "execute_result"
    }
   ],
   "source": [
    "P = _build_classes(Poly)\n",
    "P, P.__dict__"
   ]
  },
  {
   "cell_type": "markdown",
   "metadata": {},
   "source": [
    "Now, we ought to be able to construct the `x*x + 32` expression we had in mind to start with."
   ]
  },
  {
   "cell_type": "code",
   "execution_count": 12,
   "metadata": {},
   "outputs": [
    {
     "data": {
      "text/plain": [
       "Add(lhs=Mul(lhs=Var(name=x,loc=None),rhs=Var(name=x,loc=None),loc=None),rhs=Const(val=32.0,loc=None),loc=None)"
      ]
     },
     "execution_count": 12,
     "metadata": {},
     "output_type": "execute_result"
    }
   ],
   "source": [
    "x    = P.Var(\"x\",None)\n",
    "xx   = P.Mul(x,x,None)\n",
    "xx32 = P.Add(xx,P.Const(32.,None),None)\n",
    "xx32"
   ]
  },
  {
   "cell_type": "markdown",
   "metadata": {},
   "source": [
    "We can package up what we've done into a single function that will take an ASDL grammar as a string and return the corresponding Python module containing all the desired types and constructors.\n",
    "\n",
    "I'll call it `ADT` for Algebraic Data Type, mainly because that doesn't conflict with `ASDL`."
   ]
  },
  {
   "cell_type": "code",
   "execution_count": 1,
   "metadata": {},
   "outputs": [],
   "source": [
    "def ADT(asdl_str, ext_checks={}):\n",
    "    asdl_ast = _asdl_parse(asdl_str)\n",
    "    mod      = _build_classes(asdl_ast,ext_checks)\n",
    "    # cache values in case we might want them\n",
    "    mod._ext_checks = ext_checks\n",
    "    mod._ast = asdl_ast\n",
    "    return mod"
   ]
  },
  {
   "cell_type": "code",
   "execution_count": null,
   "metadata": {},
   "outputs": [],
   "source": []
  }
 ],
 "metadata": {
  "kernelspec": {
   "display_name": "Python 3",
   "language": "python",
   "name": "python3"
  },
  "language_info": {
   "codemirror_mode": {
    "name": "ipython",
    "version": 3
   },
   "file_extension": ".py",
   "mimetype": "text/x-python",
   "name": "python",
   "nbconvert_exporter": "python",
   "pygments_lexer": "ipython3",
   "version": "3.7.3"
  }
 },
 "nbformat": 4,
 "nbformat_minor": 2
}
