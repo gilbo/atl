{
 "cells": [
  {
   "cell_type": "code",
   "execution_count": 1,
   "metadata": {},
   "outputs": [],
   "source": [
    "import ctypes\n",
    "import os\n",
    "import sys\n",
    "import subprocess\n",
    "\n",
    "def shell(cstr):\n",
    "    try:\n",
    "        res = subprocess.run(cstr, check=True, shell=True,\n",
    "                                   capture_output=True)\n",
    "        if len(res.stdout) > 0:\n",
    "            print(res.stdout.decode(\"utf-8\"))\n",
    "    except subprocess.CalledProcessError as err:\n",
    "        if len(err.output) > 0:\n",
    "            print(err.output.decode(\"utf-8\"))\n",
    "        print(err.stderr.decode(\"utf-8\"))\n",
    "        raise err"
   ]
  },
  {
   "cell_type": "markdown",
   "metadata": {},
   "source": [
    "Of course, external dependencies will be in different places on different systems, which is the bane of any build system.  I'm going to skip that problem here and just point to the Halide binary.  Dear programmer, you'll need to edit this on whatever system you're working on."
   ]
  },
  {
   "cell_type": "code",
   "execution_count": 2,
   "metadata": {},
   "outputs": [],
   "source": [
    "HALIDE_PATH   = os.path.expanduser('~/install/halide')\n",
    "\n",
    "HALIDE_SO     = None\n",
    "HALIDE_BIN    = os.path.join(HALIDE_PATH,'bin')\n",
    "HALIDE_LIB    = os.path.join(HALIDE_PATH,'lib')\n",
    "HALIDE_INC    = os.path.join(HALIDE_PATH,'include')\n",
    "HALIDE_STATIC = os.path.join(HALIDE_LIB,'libHalide.a')\n",
    "if sys.platform == 'darwin':\n",
    "    HALIDE_SO = os.path.join(HALIDE_BIN,'libHalide.dylib')\n",
    "elif sys.platform == 'linux':\n",
    "    raise NotImplementedError(\"Support for Linux should be easy, \"\n",
    "                              \"but not checked yet\")\n",
    "elif sys.platform == 'win32' or sys.platform == 'cygwin':\n",
    "    raise NotImplementedError(\"I don't know what is necessary \"\n",
    "                              \"to support Windows. Ce la vie!\")\n",
    "\n",
    "if not os.path.isfile(HALIDE_SO):\n",
    "    raise IOError(f\"Halide shared library not found at {HALIDE_SO}\")\n"
   ]
  },
  {
   "cell_type": "markdown",
   "metadata": {},
   "source": [
    "# Simplest Case: Wrapping an `int(void)` Function"
   ]
  },
  {
   "cell_type": "markdown",
   "metadata": {},
   "source": [
    "It would be nice if we could just directly link and use the Halide library, but we can't.  The problem is that it was written with a C++ API, which is not easily bound into Python (or other languages' FFIs for that matter).  Instead, we'll try to build a wrapper library around it that uses a _pure C_ interface.  To accomplish this, we'll start by trying to just wrap one of the tutorials in a minimal way.  This will let us iron out some boilerplate related to bootstrapping our build system strategy.\n",
    "\n",
    "Here is the first non-trivial Halide tutorial, stripped of comments, and with main renamed to be used as a library function instead.  (Note also the additional `extern \"C\" { ... }`, which is critical for us to expose the `C++` into pure `C` correctly."
   ]
  },
  {
   "cell_type": "code",
   "execution_count": 3,
   "metadata": {},
   "outputs": [],
   "source": [
    "h_tut_1_src = \"\"\"\n",
    "#include \"Halide.h\"\n",
    "#include <stdio.h>\n",
    "#include <stdlib.h>\n",
    "\n",
    "extern \"C\" {\n",
    "int run_tut1();\n",
    "}\n",
    "\n",
    "int run_tut1() {\n",
    "\n",
    "    Halide::Func gradient;\n",
    "    Halide::Var  x, y;\n",
    "\n",
    "    Halide::Expr e = x + y;\n",
    "    gradient(x, y) = e;\n",
    "    \n",
    "    Halide::Buffer<int32_t> output = gradient.realize(800, 600);\n",
    "\n",
    "    for (int j = 0; j < output.height(); j++) {\n",
    "        for (int i = 0; i < output.width(); i++) {\n",
    "            if (output(i, j) != i + j) {\n",
    "                printf(\"Something went wrong!\\\\n\"\n",
    "                       \"Pixel %d, %d was supposed to be %d,\"\n",
    "                       \"but instead it's %d\\\\n\",\n",
    "                       i, j, i+j, output(i, j));\n",
    "                return -1;\n",
    "            }\n",
    "        }\n",
    "    }\n",
    "\n",
    "    printf(\"Success!\\\\n\");\n",
    "    return 0;\n",
    "}\n",
    "\"\"\""
   ]
  },
  {
   "cell_type": "markdown",
   "metadata": {},
   "source": [
    "We are going to have to compile this by escaping into the OS ultimately.  No way around it.  There are some really cool build systems that automatically determine dependencies by snooping on system commands using `strace` and the like.  `fabricate.py` is one of these.  However, it looks like those aren't super well maintained or portable across at least mac and linux.  So, I'm going to do this by starting with even more manual primitives in Python.  Hopefully I can still bootstrap up some clever resiliency as a kind of one-off build system.\n",
    "\n",
    "We'll start by ensuring that there's a hidden directory we can dump all our temporaries and stuff into."
   ]
  },
  {
   "cell_type": "code",
   "execution_count": 4,
   "metadata": {},
   "outputs": [],
   "source": [
    "HERE_DIR = os.path.abspath('')\n",
    "C_DIR    = os.path.join(HERE_DIR,'._c_wrapper_cache')\n",
    "\n",
    "if not os.path.isdir(C_DIR):\n",
    "    os.mkdir(C_DIR)\n",
    "\n",
    "# make sure we have a conveient way to blow away the cache\n",
    "def clean_cache():\n",
    "    shell( 'rm ' + os.path.join(C_DIR,\"*\") )\n"
   ]
  },
  {
   "cell_type": "markdown",
   "metadata": {},
   "source": [
    "We can now dump the cpp file into this cache."
   ]
  },
  {
   "cell_type": "code",
   "execution_count": 5,
   "metadata": {},
   "outputs": [],
   "source": [
    "TUT_1_FILENAME = os.path.join(C_DIR, \"tut_1.cpp\")\n",
    "with open(TUT_1_FILENAME,'w',encoding = 'utf-8') as f:\n",
    "    f.write(h_tut_1_src)"
   ]
  },
  {
   "cell_type": "markdown",
   "metadata": {},
   "source": [
    "We now need to run the command to compile the file into a library.\n"
   ]
  },
  {
   "cell_type": "code",
   "execution_count": 6,
   "metadata": {
    "scrolled": true
   },
   "outputs": [
    {
     "name": "stdout",
     "output_type": "stream",
     "text": [
      "clang++ -Wall -Werror -fPIC -O3 -shared -std=c++11 -I /Users/gilbo/install/halide/include /Users/gilbo/install/halide/lib/libHalide.a -lz -o /Users/gilbo/code/iver/notebooks/._c_wrapper_cache/libtut_1.so /Users/gilbo/code/iver/notebooks/._c_wrapper_cache/tut_1.cpp\n"
     ]
    }
   ],
   "source": [
    "TUT1_SO = os.path.join(C_DIR, \"libtut_1.so\")\n",
    "\n",
    "#f\"-Wl,-rpath,{HALIDE_LIB} \"\n",
    "cmd = (f\"clang++ -Wall -Werror -fPIC -O3 -shared -std=c++11 \"\n",
    "       f\"-I {HALIDE_INC} {HALIDE_STATIC} -lz \"\n",
    "       f\"-o {TUT1_SO} {TUT_1_FILENAME}\")\n",
    "print(cmd)\n",
    "shell(cmd)"
   ]
  },
  {
   "cell_type": "code",
   "execution_count": 7,
   "metadata": {},
   "outputs": [
    {
     "name": "stdout",
     "output_type": "stream",
     "text": [
      "Hwrap_v00.cpp\n",
      "libHwrap_v00.so\n",
      "libtut_1.so\n",
      "tut_1.cpp\n",
      "\n"
     ]
    }
   ],
   "source": [
    "# Check whether the shared object was created or not\n",
    "shell(\"ls \" + C_DIR)"
   ]
  },
  {
   "cell_type": "markdown",
   "metadata": {},
   "source": [
    "Now we want to look at binding this library in using `ctypes`"
   ]
  },
  {
   "cell_type": "code",
   "execution_count": 8,
   "metadata": {},
   "outputs": [],
   "source": [
    "m_tut_1 = ctypes.CDLL(TUT1_SO)"
   ]
  },
  {
   "cell_type": "code",
   "execution_count": 9,
   "metadata": {},
   "outputs": [
    {
     "data": {
      "text/plain": [
       "0"
      ]
     },
     "execution_count": 9,
     "metadata": {},
     "output_type": "execute_result"
    }
   ],
   "source": [
    "m_tut_1.run_tut1()"
   ]
  },
  {
   "cell_type": "markdown",
   "metadata": {},
   "source": [
    "Wait a second.  Where did the \"Success!\" go?  I thought the C function we wrote prints that out using `printf`.\n",
    "\n",
    "Well, the standard file descriptors like `stdout` and `stderr` are bound to the console that launched this Jupyter notebook's server.  If you go look there, you'll see `\"Success!\"` printed out. _**This is a very important observation!**_ If by using C-code we manage to crash the process, all our notebook will tell us is \"the kernel had to restart\".  If the C-code tried to dump some kind of useful information about the panic to stdout or stderr, that got dumped to the console running the jupyter server.  You need to know to go look there or you'll be driving blind."
   ]
  },
  {
   "cell_type": "markdown",
   "metadata": {},
   "source": [
    "## ! An annoying detail about dynamic loading !\n",
    "Once we execute `ctypes.CDLL(...soname...)` once for a given filename, this process will assume we loaded the one and only static version of that shared library.  Once we're done developing the shared library, this is just great.  But if we're changing the source for that shared library in this same process that's loading it, this behavior may prevent updates.  In general, you will need to restart the notebook kernel in order to see changes to a linked shared library propagate correctly."
   ]
  },
  {
   "cell_type": "markdown",
   "metadata": {},
   "source": [
    "--------"
   ]
  },
  {
   "cell_type": "markdown",
   "metadata": {},
   "source": [
    "# What is the Halide API Anyway?"
   ]
  },
  {
   "cell_type": "markdown",
   "metadata": {},
   "source": [
    "The tutorial we just looked at used a variety of objects/classes:\n",
    "* `Halide::Func`\n",
    "* `Halide::Var`\n",
    "* `Halide::Expr`\n",
    "* `Halide::Buffer<T>`\n",
    "\n",
    "The first three of these can be managed via pointers, wrapped by appropriate `create` and `destroy` functions.  The last one will be trickier because we have to instantiate every version of it that we might want—ie for each type of data we may want to store in the `Buffer`."
   ]
  },
  {
   "cell_type": "markdown",
   "metadata": {},
   "source": [
    "Looking through the documentation we can find different constructors for each of these first three objects.\n",
    "\n",
    "For `Halide::Func`, we see `Func(std::string)`, `Func(Expr)`, and `Func(Buffer)` notably.  Let's see if we can get away with just `Func(std::string)` for right now.\n",
    "\n",
    "For `Halide::Var`, there is basically just `Var(std::string)`.\n",
    "\n",
    "For `Halide::Expr`, one can make an expression out of `Expr()` and `Expr(const_val)` for all basic value types.\n",
    "\n",
    "Of course, we'll have to sort out a lot of other stuff too!"
   ]
  },
  {
   "cell_type": "markdown",
   "metadata": {},
   "source": [
    "## The 'plain' C interface to Halide \"pipelines\"/ahead-of-time compiled code"
   ]
  },
  {
   "cell_type": "markdown",
   "metadata": {},
   "source": [
    "While talking with Alex Reinking, I learned that `halide_buffer_t` is the `C` interface to buffers.  The motivating idea to keep in mind here is that when Halide generates code ahead of time to be compiled into some project, it wants to have a `C`-compatible interface to that code.\n",
    "\n",
    "A _pipeline_ is a compiled piece of Halide code with multiple input buffers and multiple output buffers.  In a sense it is a bit like a sub-routine/function.  However, it is not composable in the sense that a pipeline cannot be used inside of another pipeline."
   ]
  },
  {
   "cell_type": "markdown",
   "metadata": {},
   "source": [
    "### `halide_buffer_t`\n",
    "\n",
    "Unlike the enormous `Halide::Buffer` interface, `halide_buffer_t` is a struct.  We can just list out its members.\n",
    "```\n",
    "struct halide_buffer_t {\n",
    "    // these two relate to when the data is say GPU resident\n",
    "    uint64_t                device;\n",
    "    const halide_device_interface_t *\n",
    "                            device_interface;\n",
    "    // the data pointer\n",
    "    uint8_t *               host;\n",
    "    \n",
    "    // no idea what these mean\n",
    "    uint64_t                flags;\n",
    "    \n",
    "    // what data is stored at each coordinate\n",
    "    halide_type_t           type;\n",
    "\n",
    "    // the layout pattern and indexing coefficients\n",
    "    int32_t                 dimensions;\n",
    "    halide_dimension_t *    dim;\n",
    "    \n",
    "    // how does this work?\n",
    "    void *                  padding;\n",
    "}\n",
    "```\n",
    "This has a number of sub-structures, which we'll need to investigate next."
   ]
  },
  {
   "cell_type": "markdown",
   "metadata": {},
   "source": [
    "### `dimension_t`\n",
    "\n",
    "Looking at `dimensions` and `dim`, we see that the first is the length of the array pointed to by the latter.  It indicates how many indices are necessary to address an element of the tensor.  Each entry in `dim` then has the following structure.\n",
    "```\n",
    "struct halide_dimension_t {\n",
    "  int32_t   min;    // not quite sure\n",
    "  int32_t   extent; // ditto, but n_elem in this dimension?\n",
    "  int32_t   stride; // this is clear; what to multiply indices by\n",
    "  uint32_t  flags;  // unused; reserved\n",
    "};\n",
    "```\n",
    "Taking a vector `idx` of size `dimensions` indexing the buffer, we may compute the memory coordinates of a buffer entry as\n",
    "```\n",
    "  addr = host\n",
    "  for i=0,dimensions:\n",
    "    addr += dim[i].stride * (idx[i] - dim[i].min) * sizeof(type)\n",
    "```\n",
    "Meanwhile, `extent` is the number of entries in the dimension, so that `min+extent-1` is the maximum addressible coordinate in the given dimension.\n",
    "\n",
    "This layout description is sufficient to handle padded buffers, windowing, and different storage orders."
   ]
  },
  {
   "cell_type": "markdown",
   "metadata": {},
   "source": [
    "### `halide_device_interface_t`\n",
    "\n",
    "We can get a handle to a device using the following call, which returns `NULL` on failure.\n",
    "```\n",
    "const Halide::halide_device_interface_t*\n",
    "Halide::get_device_interface_for_device_api (\n",
    "  DeviceAPI d,\n",
    "  const Target & t = get_jit_target_from_environment()\n",
    ")\n",
    "```\n",
    "\n",
    "The `DeviceAPI d` argument is drawn from the enum\n",
    "```\n",
    "enum class DeviceAPI {\n",
    "     None,\n",
    "     Host,\n",
    "     Default_GPU,\n",
    "     CUDA,\n",
    "     OpenCL,\n",
    "     GLSL,\n",
    "     OpenGLCompute,\n",
    "     Metal,\n",
    "     Hexagon,\n",
    "     HexagonDma,\n",
    "     D3D12Compute,\n",
    "};\n",
    "```\n",
    "and presumably these values are assigned to `uint64_t device` in the `halide_buffer_t` structure too.\n",
    "\n",
    "In this way, we can thankfully treat the device interface as a black box."
   ]
  },
  {
   "cell_type": "markdown",
   "metadata": {},
   "source": [
    "### `halide_type_t`\n",
    "\n",
    "This is a simple enumeration on signed vs. unsigned integers, floats and handles.  For instance a `u32` would be `{1,32,1}` while a `vec4f` would be `{2,32,4}`.\n",
    "```\n",
    "struct halide_type_t {\n",
    "  uint8_t  code; // halide_type_code_t\n",
    "  uint8_t  bits;\n",
    "  uint16_t lanes;\n",
    "};\n",
    "typedef enum halide_type_code_t {\n",
    "  halide_type_int = 0,   //!< signed integers\n",
    "  halide_type_uint = 1,  //!< unsigned integers\n",
    "  halide_type_float = 2, //!< floating point numbers\n",
    "  halide_type_handle = 3 //!< opaque pointer type (void *)\n",
    "};\n",
    "```"
   ]
  },
  {
   "cell_type": "markdown",
   "metadata": {},
   "source": [
    "## Compiling Code --- JiT style"
   ]
  },
  {
   "cell_type": "markdown",
   "metadata": {},
   "source": [
    "Let's look at how to expose the JiT compilation and execution to start with.  Looking through the `Func` documentation (i.e. every single public member function on the class), we see `realize` in a number of guises, including\n",
    "```\n",
    "void Func::realize ( Pipeline::Realization outputs,\n",
    "                     const Target &target=Target(),\n",
    "                     const ParamMap &param_map=ParamMap::empty_map() )\n",
    "```\n",
    "where `Target` is a description of the _compile target_ that gets passed through to LLVM.  The `ParamMap` is about setting scalar parameters on the pipeline.  Finally the `Pipeline::Realization` expresses the output buffer.  It is constructed as `Realization(halide_buffer_t *buf)`"
   ]
  },
  {
   "cell_type": "markdown",
   "metadata": {},
   "source": [
    "## Ways to Combine Expressions"
   ]
  },
  {
   "cell_type": "markdown",
   "metadata": {},
   "source": [
    "Consider the following excerpt from the tutorial, which contains the substantive definition of the pipeline.  How do we translate these lines into a C-API?\n",
    "```\n",
    "    Halide::Expr e = x + y;\n",
    "    gradient(x, y) = e;\n",
    "```\n",
    "First, note that there is a type-conversion operator defined from `Var` to `Expr`.  This will lift `x` and `y`.  From there, we need some way to add two expressions.  As it turns out, we will be able to do that using the overloaded operator.\n",
    "\n",
    "The tricky part will be indexing `gradient`.  What class/type of object does this result in?  And what are the functions to use?  Will it be ok to pass that object around without resolving it into an r-value immediately?  Perhaps the whole assignment must be a single invocation with those indices supplied.  This final answer is the simplest, since it will give us a general strategy without having to poke into the implementation in greater detail.\n"
   ]
  },
  {
   "cell_type": "markdown",
   "metadata": {},
   "source": [
    "-----"
   ]
  },
  {
   "cell_type": "markdown",
   "metadata": {},
   "source": [
    "# Halide Wrapper v0.0\n",
    "\n",
    "We will proceed by constructing the wrapper string bit by bit.  As we go, we will also anticipate _wrapping_ the resulting function from the `ctypes.cdll` load with the correct types.\n",
    "\n",
    "To begin, note that we must build our own Python classes to reflect C structures in the interface."
   ]
  },
  {
   "cell_type": "code",
   "execution_count": 10,
   "metadata": {},
   "outputs": [],
   "source": [
    "class halide_type_t(ctypes.Structure):\n",
    "    _c_type_str = \"struct halide_type_t\"\n",
    "    _fields_ = [\n",
    "        ('code',  ctypes.c_ubyte),\n",
    "        ('bits',  ctypes.c_ubyte),\n",
    "        ('lanes', ctypes.c_ushort),\n",
    "    ]\n",
    "\n",
    "class halide_dimension_t(ctypes.Structure):\n",
    "    _c_type_str = \"struct halide_dimension_t\"\n",
    "    _fields_ = [\n",
    "        ('min',    ctypes.c_int),\n",
    "        ('extent', ctypes.c_int),\n",
    "        ('stride', ctypes.c_int),\n",
    "        ('flags',  ctypes.c_uint),\n",
    "    ]\n",
    "\n",
    "class halide_buffer_t(ctypes.Structure):\n",
    "    _c_type_str = \"struct halide_buffer_t\"\n",
    "    _fields_ = [\n",
    "        ('device',            ctypes.c_ulonglong),\n",
    "        ('device_interface',  ctypes.c_void_p),\n",
    "        ('host',              ctypes.POINTER(ctypes.c_ubyte)),\n",
    "        ('flags',             ctypes.c_ulonglong),\n",
    "        ('type',              halide_type_t),\n",
    "        ('dimensions',        ctypes.c_int),\n",
    "        ('dim',               ctypes.POINTER(halide_dimension_t)),\n",
    "        ('padding',           ctypes.c_void_p),\n",
    "    ]\n"
   ]
  },
  {
   "cell_type": "markdown",
   "metadata": {},
   "source": [
    "Our next concern is to make sure that we can quickly and easily consolidate all the information we need associated with a type, whether it is a simple built in type, one of the above types we defined, or a pointer to any of the preceding.\n",
    "\n",
    "Not only do we need the correct `ctypes` object to represent the type; we also need a string that can be written into C-code that correctly identifies the type for C-type signatures.  The following function allows us to access this information using the ctype objects or via a convenient string-encoded shorthand."
   ]
  },
  {
   "cell_type": "code",
   "execution_count": 11,
   "metadata": {},
   "outputs": [],
   "source": [
    "_CTYPES_PTR_TYPE    = type(ctypes.POINTER(ctypes.c_int))\n",
    "_CTYPES_SIMPLE_TYPE = type(ctypes.c_int)\n",
    "\n",
    "_str_to_pair = {\n",
    "    \"b\":    {'ct':ctypes.c_bool,'s':'_Bool'},\n",
    "    \"i8\":   {'ct':ctypes.c_byte,'s':'int8_t'},\n",
    "    \"i16\":  {'ct':ctypes.c_short,'s':'int16_t'},\n",
    "    \"i32\":  {'ct':ctypes.c_int,'s':'int32_t'},\n",
    "    \"i64\":  {'ct':ctypes.c_longlong,'s':'int64_t'},\n",
    "    \"u8\":   {'ct':ctypes.c_ubyte,'s':'uint8_t'},\n",
    "    \"u16\":  {'ct':ctypes.c_ushort,'s':'uint16_t'},\n",
    "    \"u32\":  {'ct':ctypes.c_uint,'s':'uint32_t'},\n",
    "    \"u64\":  {'ct':ctypes.c_ulonglong,'s':'uint64_t'},\n",
    "    \"f32\":  {'ct':ctypes.c_float,'s':'float'},\n",
    "    \"f64\":  {'ct':ctypes.c_double,'s':'double'},\n",
    "    \"v\":    {'ct':None,'s':'void'},\n",
    "    \"vp\":   {'ct':ctypes.c_void_p,'s':'void *'},\n",
    "    \"vpp\":  {'ct':ctypes.POINTER(ctypes.c_void_p),'s':'void **'},\n",
    "    \"s\":    {'ct':ctypes.c_char_p,'s':'char *'},\n",
    "}\n",
    "_typ_to_pair = {}\n",
    "for _,pair in _str_to_pair.items():\n",
    "    _typ_to_pair[pair['ct']] = pair\n",
    "\n",
    "def wrapT(sig):\n",
    "    if type(sig) is str:\n",
    "        if sig in _str_to_pair:\n",
    "            return _str_to_pair[sig]\n",
    "        else:\n",
    "            raise TypeError(f\"unrecognized C type string: {sig}\")\n",
    "            \n",
    "    # convert our defined object types into type pairs\n",
    "    if issubclass(sig,ctypes.Structure):\n",
    "        return {'ct':sig,'s':sig._c_type_str}\n",
    "    \n",
    "    # lift simple types up to type pairs\n",
    "    elif type(sig) == _CTYPES_SIMPLE_TYPE:\n",
    "        if sig in _typ_to_pair:\n",
    "            return _typ_to_pair[sig]\n",
    "        else:\n",
    "            raise TypeError(f\"unsupported C type: {sig}\")\n",
    "    \n",
    "    # handle pointer types\n",
    "    elif type(sig) == _CTYPES_PTR_TYPE:\n",
    "        sub = wrapT(sig._type_)\n",
    "        return {'ct':sig,'s':sub['s']+\" *\"}\n",
    "    \n",
    "    else:\n",
    "        raise TypeError(f\"unrecognized argument type: {type(sig)}\")\n"
   ]
  },
  {
   "cell_type": "markdown",
   "metadata": {},
   "source": [
    "Finally, the following chunk of code will allow us to declare the functions we want to include in the wrapper in a non-redundant way that keeps multiple occurrences of the function signature in sync with each other.\n",
    "\n",
    "The `getHv00` function packages up our earlier insights along with a clever use of `os.path.getmtime` to read the _last-modified_ time for files involved in our build.  Doing this obviates one reason for a tool like `make` or `cmake`: that redundant builds are prevented.  However, by having the Python wrapper itself maintain its own freshness, we can avoid wrapper-library users having to manage another build invocation."
   ]
  },
  {
   "cell_type": "code",
   "execution_count": 12,
   "metadata": {},
   "outputs": [],
   "source": [
    "H_v00_inc_str = \"\"\"\n",
    "#include \"Halide.h\"\n",
    "#include <stdio.h>\n",
    "#include <stdlib.h>\n",
    "#include <stdint.h>\n",
    "\"\"\"\n",
    "\n",
    "H_v00_decl_strs   = []\n",
    "H_v00_defn_strs   = []\n",
    "H_v00_ctype_wraps = []\n",
    "H_v00_module      = None\n",
    "\n",
    "def H_v00_function(name,args,ret,body):\n",
    "    astr = ', '.join([ wrapT(a[1])['s'] +' '+a[0]\n",
    "                       for a in args\n",
    "                     ])\n",
    "    rstr = wrapT(ret)['s']\n",
    "    \n",
    "    atyps = [ wrapT(a[1])['ct'] for a in args ]\n",
    "    rtyp  = wrapT(ret)['ct']\n",
    "    \n",
    "    declstr = f\"{rstr} {name}({astr});\"\n",
    "    defnstr = f\"{rstr} {name}({astr}) {{\\n{body}\\n}}\"\n",
    "    def wrap(mod):\n",
    "        f = getattr(mod,name)\n",
    "        f.argtypes = atyps\n",
    "        f.restype  = rtyp\n",
    "    \n",
    "    H_v00_decl_strs.append(declstr)\n",
    "    H_v00_defn_strs.append(defnstr)\n",
    "    H_v00_ctype_wraps.append(wrap)\n",
    "\n",
    "def getHv00():\n",
    "    global H_v00_module\n",
    "    all_decls = '\\n'.join(H_v00_decl_strs)\n",
    "    all_defns = '\\n\\n'.join(H_v00_defn_strs)\n",
    "    src_str   =  (f'{H_v00_inc_str}\\n\\n'\n",
    "                  f'extern \"C\" {{\\n'\n",
    "                  f'{all_decls}\\n'\n",
    "                  f'}}\\n\\n'\n",
    "                  f'{all_defns}\\n')\n",
    "    \n",
    "    Hv00_CPP  = os.path.join(C_DIR, \"Hwrap_v00.cpp\")\n",
    "    Hv00_SO   = os.path.join(C_DIR, \"libHwrap_v00.so\")\n",
    "    \n",
    "    # first, get timestamps on needed resources\n",
    "    # we'll use these to conditionally compile\n",
    "    def get_time(s):\n",
    "        if not os.path.exists(s):\n",
    "            return None\n",
    "        else:\n",
    "            return os.path.getmtime(s)\n",
    "    \n",
    "    cpp_time  = get_time(Hv00_CPP)\n",
    "    so_time   = get_time(Hv00_SO)\n",
    "    h_time    = get_time(HALIDE_STATIC)\n",
    "    \n",
    "    # Check whether the CPP file needs to be re-written\n",
    "    write_cpp = True if cpp_time == None else False\n",
    "    if cpp_time:\n",
    "        with open(Hv00_CPP,'r',encoding = 'utf-8') as f:\n",
    "            if src_str != f.read():\n",
    "                write_cpp = True\n",
    "    # possibly rewrite the CPP file\n",
    "    if write_cpp:\n",
    "        if so_time: cpp_time = so_time + 1\n",
    "        with open(Hv00_CPP,'w',encoding = 'utf-8') as f:\n",
    "            f.write(src_str)\n",
    "    \n",
    "    # Check whether the SO needs to be re-compiled\n",
    "    if (not cpp_time or not so_time or\n",
    "        so_time < cpp_time or\n",
    "        so_time < h_time):\n",
    "            cmd = (f\"clang++ -Wall -Werror -fPIC -O3 -shared -std=c++11 \"\n",
    "                   f\"-I {HALIDE_INC} {HALIDE_STATIC} -lz \"\n",
    "                   f\"-o {Hv00_SO} {Hv00_CPP}\")\n",
    "            print(cmd)\n",
    "            shell(cmd)\n",
    "            if H_v00_module != None:\n",
    "                raise IOError(\"library Hwrap_v00 already loaded\")\n",
    "    \n",
    "    # Load the module if needed\n",
    "    if H_v00_module == None:\n",
    "        H_v00_module = ctypes.CDLL(Hv00_SO)\n",
    "        for wrap in H_v00_ctype_wraps:\n",
    "            wrap(H_v00_module)\n",
    "    \n",
    "    return H_v00_module\n"
   ]
  },
  {
   "cell_type": "markdown",
   "metadata": {},
   "source": [
    "The preceding machinery wraps up what we learned about building and loading a dynamic library, as well as packaging function declarations in a nice way that keeps them consistent across the three different sites that they need to occur at."
   ]
  },
  {
   "cell_type": "code",
   "execution_count": 13,
   "metadata": {},
   "outputs": [
    {
     "name": "stdout",
     "output_type": "stream",
     "text": [
      "clang++ -Wall -Werror -fPIC -O3 -shared -std=c++11 -I /Users/gilbo/install/halide/include /Users/gilbo/install/halide/lib/libHalide.a -lz -o /Users/gilbo/code/iver/notebooks/._c_wrapper_cache/libHwrap_v00.so /Users/gilbo/code/iver/notebooks/._c_wrapper_cache/Hwrap_v00.cpp\n"
     ]
    }
   ],
   "source": [
    "# FUNC\n",
    "H_v00_function(\n",
    "    \"hwrap_new_func\",\n",
    "    [('name','s')],'vp',\n",
    "    \"\"\"\n",
    "    Halide::Func *f = new Halide::Func(name);\n",
    "    return (void *)(f);\n",
    "    \"\"\")\n",
    "H_v00_function(\n",
    "    \"hwrap_delete_func\",\n",
    "    [('f_handle','vp')],'v',\n",
    "    \"\"\"\n",
    "    Halide::Func *f = (Halide::Func *)(f_handle);\n",
    "    delete f;\n",
    "    \"\"\")\n",
    "\n",
    "# VAR\n",
    "H_v00_function(\n",
    "    \"hwrap_new_var\",\n",
    "    [('name','s')],'vp',\n",
    "    \"\"\"\n",
    "    Halide::Var *v = new Halide::Var(name);\n",
    "    return (void *)(v);\n",
    "    \"\"\")\n",
    "H_v00_function(\n",
    "    \"hwrap_delete_var\",\n",
    "    [('v_handle','vp')],'v',\n",
    "    \"\"\"\n",
    "    Halide::Var *v = (Halide::Var *)(v_handle);\n",
    "    delete v;\n",
    "    \"\"\")\n",
    "\n",
    "# EXPR\n",
    "# delete an expression we got some other way\n",
    "H_v00_function(\n",
    "    \"hwrap_delete_expr\",\n",
    "    [('e_handle','vp')],'v',\n",
    "    \"\"\"\n",
    "    Halide::Expr *e = (Halide::Expr *)(e_handle);\n",
    "    delete e;\n",
    "    \"\"\")\n",
    "# converts a Var to a Int32-type Expr\n",
    "H_v00_function(\n",
    "    \"hwrap_var_to_expr\",\n",
    "    [('v_handle','vp')],'vp',\"\"\"\n",
    "    Halide::Var  *x = (Halide::Var *)(v_handle);\n",
    "    Halide::Expr *e = new Halide::Expr(*x);\n",
    "    return (void *)(e);\n",
    "    \"\"\")\n",
    "# add 2 expressions together\n",
    "H_v00_function(\n",
    "    \"hwrap_add\",\n",
    "    [('lh','vp'),('rh','vp')],'vp',\"\"\"\n",
    "    Halide::Expr *lhs = (Halide::Expr *)(lh);\n",
    "    Halide::Expr *rhs = (Halide::Expr *)(rh);\n",
    "    Halide::Expr *res = new Halide::Expr((*lhs) + (*rhs));\n",
    "    return (void *)(res);\n",
    "    \"\"\")\n",
    "\n",
    "# Statements\n",
    "H_v00_function(\n",
    "    \"hwrap_pure_def\",\n",
    "    [('fh','vp'),\n",
    "     ('n_idx','i32'),\n",
    "     ('idx','vpp'),\n",
    "     ('rhs','vp')], \"v\",\n",
    "    \"\"\"\n",
    "    Halide::Func *f = (Halide::Func *)(fh);\n",
    "    std::vector<Halide::Var> args;\n",
    "    for(int k=0; k<n_idx; k++)\n",
    "        args.push_back( *(Halide::Var *)(idx[k]) );\n",
    "    (*f)(args) = *(Halide::Expr *)(rhs);\n",
    "    \"\"\")\n",
    "\n",
    "\n",
    "# DEVICE INTERFACE\n",
    "H_v00_function(\n",
    "    \"hwrap_get_jit_device\",\n",
    "    [('_d','u64')],'vp',\n",
    "    \"\"\"\n",
    "    Halide::DeviceAPI d = (Halide::DeviceAPI)(_d);\n",
    "    return (void *)(Halide::get_device_interface_for_device_api(d));\n",
    "    \"\"\")\n",
    "H_v00_function(\n",
    "    \"hwrap_get_DeviceAPI_None\",[],'u64',\"\"\"\n",
    "    return (uint64_t)(Halide::DeviceAPI::None);\"\"\")\n",
    "H_v00_function(\n",
    "    \"hwrap_get_DeviceAPI_Host\",[],'u64',\"\"\"\n",
    "    return (uint64_t)(Halide::DeviceAPI::Host);\"\"\")\n",
    "H_v00_function(\n",
    "    \"hwrap_get_DeviceAPI_Default_GPU\",[],'u64',\"\"\"\n",
    "    return (uint64_t)(Halide::DeviceAPI::Default_GPU);\"\"\")\n",
    "# note: a number of other cases for the enumeration were ignored\n",
    "\n",
    "# TYPE CODES (extracting different enums)\n",
    "H_v00_function(\n",
    "    \"hwrap_get_type_code_int\",[],'u8',\"\"\"\n",
    "    return (uint8_t)(halide_type_int);\"\"\")\n",
    "H_v00_function(\n",
    "    \"hwrap_get_type_code_uint\",[],'u8',\"\"\"\n",
    "    return (uint8_t)(halide_type_uint);\"\"\")\n",
    "H_v00_function(\n",
    "    \"hwrap_get_type_code_float\",[],'u8',\"\"\"\n",
    "    return (uint8_t)(halide_type_float);\"\"\")\n",
    "H_v00_function(\n",
    "    \"hwrap_get_type_code_handle\",[],'u8',\"\"\"\n",
    "    return (uint8_t)(halide_type_handle);\"\"\")\n",
    "\n",
    "# Realizing a result (with JiT compilation)\n",
    "H_v00_function(\n",
    "    \"hwrap_realize_jit\",\n",
    "    [('self','vp'),('output',ctypes.POINTER(halide_buffer_t))],'v',\n",
    "    \"\"\"\n",
    "    Halide::Func *f = (Halide::Func *)(self);\n",
    "    // note that this type annotation DOES NOT generalize\n",
    "    Halide::Buffer<> buf(*output);\n",
    "    f->realize(Halide::Realization(buf));\n",
    "    \"\"\")\n",
    "\n",
    "\n",
    "\n",
    "Hv00 = getHv00()"
   ]
  },
  {
   "cell_type": "code",
   "execution_count": 14,
   "metadata": {},
   "outputs": [],
   "source": [
    "Hv00.DeviceAPI_None         = Hv00.hwrap_get_DeviceAPI_None()\n",
    "Hv00.DeviceAPI_Host         = Hv00.hwrap_get_DeviceAPI_Host()\n",
    "Hv00.DeviceAPI_Default_GPU  = Hv00.hwrap_get_DeviceAPI_Default_GPU()\n",
    "\n",
    "Hv00.type_int               = Hv00.hwrap_get_type_code_int()\n",
    "Hv00.type_uint              = Hv00.hwrap_get_type_code_uint()\n",
    "Hv00.type_float             = Hv00.hwrap_get_type_code_float()\n",
    "Hv00.type_handle            = Hv00.hwrap_get_type_code_handle()"
   ]
  },
  {
   "cell_type": "markdown",
   "metadata": {},
   "source": [
    "## Replicating the Tutorial Code in Python Now"
   ]
  },
  {
   "cell_type": "code",
   "execution_count": 17,
   "metadata": {},
   "outputs": [
    {
     "name": "stdout",
     "output_type": "stream",
     "text": [
      "Success!\n"
     ]
    }
   ],
   "source": [
    "def new_buffer(w,h):\n",
    "    arr   = ((ctypes.c_int * w) * h)()\n",
    "    p_arr = ctypes.cast( arr, ctypes.POINTER(ctypes.c_ubyte) )\n",
    "    \n",
    "    out_buf  = halide_buffer_t()\n",
    "    out_buf.device              = 0\n",
    "    out_buf.device_interface    = None\n",
    "    out_buf.host                = p_arr\n",
    "    out_buf.flags               = 0\n",
    "    out_buf.type                = halide_type_t(Hv00.type_int,32,1)\n",
    "    out_buf.dimensions          = 2\n",
    "    out_buf.dim                 = (halide_dimension_t * 2)()\n",
    "    out_buf.dim[0] = halide_dimension_t(0,w,1,0)\n",
    "    out_buf.dim[1] = halide_dimension_t(0,h,w,0)\n",
    "    out_buf.padding             = None\n",
    "    \n",
    "    return out_buf, arr\n",
    "\n",
    "\n",
    "def run_tut1():\n",
    "    gradient = Hv00.hwrap_new_func(b\"gradient\")\n",
    "    x        = Hv00.hwrap_new_var(b\"x\")\n",
    "    y        = Hv00.hwrap_new_var(b\"y\")\n",
    "\n",
    "    # e = x + y\n",
    "    e_x      = Hv00.hwrap_var_to_expr(x)\n",
    "    e_y      = Hv00.hwrap_var_to_expr(y)\n",
    "    e        = Hv00.hwrap_add(e_x,e_y)\n",
    "    \n",
    "    # gradient(x,y) = e\n",
    "    idx      = (ctypes.c_void_p * 2)(x,y)\n",
    "    Hv00.hwrap_pure_def(gradient,2,idx,e)\n",
    "    \n",
    "    # set up the buffer\n",
    "    buf, arr = new_buffer(800,600)\n",
    "    Hv00.hwrap_realize_jit(gradient,buf)\n",
    "    \n",
    "    # delete stuff\n",
    "    Hv00.hwrap_delete_func(gradient)\n",
    "    Hv00.hwrap_delete_var(x)\n",
    "    Hv00.hwrap_delete_var(y)\n",
    "    Hv00.hwrap_delete_expr(e_x)\n",
    "    Hv00.hwrap_delete_expr(e_y)\n",
    "    Hv00.hwrap_delete_expr(e)\n",
    "    \n",
    "    # test the result\n",
    "    for j in range(0,600):\n",
    "        for i in range(0,800):\n",
    "            if arr[j][i] != i + j:\n",
    "                print(f\"Something went wrong!\\n\"+\n",
    "                      f\"Pixel {i}, {j} was supposed to be {i+j},\"\n",
    "                      f\"but instead it's {arr[j][i]}\")\n",
    "    \n",
    "    print(\"Success!\")\n",
    "    \n",
    "run_tut1()"
   ]
  },
  {
   "cell_type": "markdown",
   "metadata": {},
   "source": [
    "-------"
   ]
  },
  {
   "cell_type": "markdown",
   "metadata": {},
   "source": [
    "# To be continued...\n",
    "\n",
    "We got a lot of wrapping ideas explored in this notebook.  However, now is a good point to step back and get a fresh start on a wrapper that consolidates the progress we've already made.\n",
    "\n",
    "As we do that, we'll need to expand the API bindings in a couple ways and try to consolidate those as well.  Specifically, we want to\n",
    "* broaden the set of operators beyond addition\n",
    "* include parameters (scalar inputs)\n",
    "* include input buffers\n",
    "* include other ways to compile\n",
    "* wrap objects so that Python ensures deletion functions get called.\n",
    "* figure out how to have multiple output buffers\n",
    "* figure out how to invoke a reasonable auto-scheduler\n"
   ]
  }
 ],
 "metadata": {
  "kernelspec": {
   "display_name": "Python 3",
   "language": "python",
   "name": "python3"
  },
  "language_info": {
   "codemirror_mode": {
    "name": "ipython",
    "version": 3
   },
   "file_extension": ".py",
   "mimetype": "text/x-python",
   "name": "python",
   "nbconvert_exporter": "python",
   "pygments_lexer": "ipython3",
   "version": "3.7.3"
  }
 },
 "nbformat": 4,
 "nbformat_minor": 2
}
