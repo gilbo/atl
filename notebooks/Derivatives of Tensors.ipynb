{
 "cells": [
  {
   "cell_type": "markdown",
   "metadata": {},
   "source": [
    "# Derivatives\n",
    "\n",
    "In this file, I will show how we can take the derivative and derivative-transpose of the `v0` tensor language."
   ]
  },
  {
   "cell_type": "markdown",
   "metadata": {},
   "source": [
    "# !!! NOTE !!! OUT OF DATE\n",
    "\n",
    "I need to do this in terms of the updated AST / IR formulations."
   ]
  },
  {
   "cell_type": "code",
   "execution_count": 1,
   "metadata": {},
   "outputs": [],
   "source": [
    "import sys\n",
    "sys.path.append('../')\n",
    "sys.path.append('../src/')\n",
    "#from adt import ADT\n",
    "#from adt import memo as ADTmemo\n",
    "from atlv0 import IR\n",
    "from atlv0 import Func\n",
    "from atlv0 import _Context"
   ]
  },
  {
   "cell_type": "code",
   "execution_count": 2,
   "metadata": {},
   "outputs": [
    {
     "name": "stdout",
     "output_type": "stream",
     "text": [
      "\n",
      "module IR_v0 {\n",
      "    expr = Var      ( string name )\n",
      "         | Const    ( float  val  )\n",
      "         | Add      ( expr lhs, expr rhs )\n",
      "         | Mul      ( expr lhs, expr rhs )\n",
      "         | Pair     ( expr lhs, expr rhs )\n",
      "         | Proj     ( int01 idx, expr arg )\n",
      "         | Gen      ( string idxname, int range, expr body )\n",
      "         | Sum      ( string idxname, int range, expr body )\n",
      "         | Access   ( expr  base, index idx )\n",
      "         -- implied multiplication of the bracket with body\n",
      "         | Indicate ( pred  arg, expr body )\n",
      "         -- important to express sharing of computation results\n",
      "         | Let      ( string name, expr rhs, expr body )\n",
      "    \n",
      "    -- indices are drawn from a range s.t.\n",
      "    -- 0 <= i < range\n",
      "    \n",
      "    pred    = Eq( index lhs, index rhs )\n",
      "    \n",
      "    type    = TNum    ()\n",
      "            | TError  ()\n",
      "            | TPair   (  type lhs, type rhs )\n",
      "            | TTensor ( int range, type typ )\n",
      "}\n",
      "\n"
     ]
    }
   ],
   "source": [
    "print(IR._defstr)"
   ]
  },
  {
   "cell_type": "markdown",
   "metadata": {},
   "source": [
    "Derivatives are defined on `expr`s with respect to some number of free variables, which constitute the \"inputs\" to the function being differentiated.  This is expressed via the form\n",
    "\n",
    "$$ D[[ e | X ]] $$\n",
    "\n",
    "for which we need simply provide structurally recursive rules constituting a definition.\n",
    "\n",
    "$$\n",
    "\\begin{array}{rcl}\n",
    "D[[ c | X ]] &\\leadsto& 0 \\\\\n",
    "D[[ x |\\ [x\\mapsto dx]\\in X ]] &\\leadsto& dx \\\\\n",
    "D[[ x | x\\not\\in X ]] &\\leadsto& 0 \\\\\n",
    "D[[ e_0 + e_1 | X ]] &\\leadsto& D[[ e_0 | X ]] + D[[ e_1 | X ]] \\\\\n",
    "D[[ e_0 \\cdot e_1 | X ]] &\\leadsto& D[[ e_0 | X ]] \\cdot e_1 + e_0 \\cdot D[[ e_1 | X ]] \\\\\n",
    "D[[ \\sum_i e | X ]] &\\leadsto& \\sum_i D[[ e | X ]] \\\\\n",
    "D[[ \\boxplus_i e | X ]] &\\leadsto& \\boxplus_i D[[ e | X ]] \\\\\n",
    "D[[ e[i]\\ | X ]] &\\leadsto& (D[[ e | X ]])[i] \\\\\n",
    "D[[\\ [p]\\cdot e\\ | X ]] &\\leadsto& [p]\\cdot D[[ e | X ]] \\\\\n",
    "D[[ (e_0,e_1) | X ]] &\\leadsto& (D[[ e_0 | X ]], D[[ e_1 | X ]]) \\\\\n",
    "D[[ \\pi_k e | X ]] &\\leadsto& \\pi_k(D[[ e | X ]]) \\\\\n",
    "D[[ \\textrm{let } x = e_0 \\textrm{ in } e_1 | X ]] &\\leadsto&\n",
    "    \\left(\\begin{array}{rcl}\n",
    "    \\textrm{let } x &=& e_0 \\textrm{ in } \\\\\n",
    "    \\textrm{let } dx &=& D[[ e_0 | X ]] \\textrm{ in } \\\\\n",
    "     && D[[ e_1 | X[x \\mapsto dx]\\ ]]) \\\\\n",
    "    \\end{array}\\right) \\\\\n",
    "\\end{array}\n",
    "$$\n"
   ]
  }
 ],
 "metadata": {
  "kernelspec": {
   "display_name": "Python 3",
   "language": "python",
   "name": "python3"
  },
  "language_info": {
   "codemirror_mode": {
    "name": "ipython",
    "version": 3
   },
   "file_extension": ".py",
   "mimetype": "text/x-python",
   "name": "python",
   "nbconvert_exporter": "python",
   "pygments_lexer": "ipython3",
   "version": "3.7.3"
  }
 },
 "nbformat": 4,
 "nbformat_minor": 2
}
