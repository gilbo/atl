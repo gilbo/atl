{
 "cells": [
  {
   "cell_type": "code",
   "execution_count": 4,
   "metadata": {},
   "outputs": [],
   "source": [
    "import sys\n",
    "sys.path.append('../')\n",
    "sys.path.append('../src/')\n",
    "from atlv0 import IR,Func"
   ]
  },
  {
   "cell_type": "markdown",
   "metadata": {},
   "source": [
    "Recall our Tensor Language:\n",
    "\n",
    "$$\n",
    "\\newcommand{\\or}{\\ |\\ }\n",
    "\\begin{array}{rl}\n",
    "  e &= x \\or c \\or e_0 + e_1 \\or e_0 \\cdot e_1 \\\\\n",
    "  &\\or \\sum_i e \\or \\boxplus_i e \\or e_i \\or [i=j] \\\\\n",
    "  &\\or (e_0,e_1) \\or \\pi_0 e \\or \\pi_1 e \\\\\n",
    "\\end{array}\n",
    "$$\n",
    "\n",
    "When we last left off, we had designed an IR, with:\n",
    "* some operator overloading to make input slightly more convenient\n",
    "* string and LaTeX display routines\n",
    "* typechecking\n",
    "* a slow Python intepreter\n",
    "\n",
    "We took a detour into wrapping up the Halide language in a Python wrapper.  Now that we've done that, we can import Halide as a high-quality, JiT-ready code generator.  The main goal of this notebook is to work out how to compile the tensor language to that target in the simplest, most direct way possible."
   ]
  },
  {
   "cell_type": "markdown",
   "metadata": {},
   "source": [
    "### Note...\n",
    "In transfering the tensor language work to a `src/` directory Python script, `T0` was renamed to `IR`.  Some other changes were also made to clean up the results and function interface a bit into a more canonical usage pattern.  I will not review all of those changes here."
   ]
  },
  {
   "cell_type": "markdown",
   "metadata": {},
   "source": [
    "# NumPy Arrays\n",
    "\n",
    "In Python, large amounts of numeric data are most commonly stored, managed and accessed via `NumPy`.  For this reason, we'll try to bind in these arrays as the representation of our tensor data.  Doing so will give us a high degree of interoperability with the Python ecosystem."
   ]
  },
  {
   "cell_type": "code",
   "execution_count": null,
   "metadata": {},
   "outputs": [],
   "source": []
  }
 ],
 "metadata": {
  "kernelspec": {
   "display_name": "Python 3",
   "language": "python",
   "name": "python3"
  },
  "language_info": {
   "codemirror_mode": {
    "name": "ipython",
    "version": 3
   },
   "file_extension": ".py",
   "mimetype": "text/x-python",
   "name": "python",
   "nbconvert_exporter": "python",
   "pygments_lexer": "ipython3",
   "version": "3.7.3"
  }
 },
 "nbformat": 4,
 "nbformat_minor": 2
}
