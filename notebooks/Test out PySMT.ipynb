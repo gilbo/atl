{
 "cells": [
  {
   "cell_type": "markdown",
   "metadata": {},
   "source": [
    "This file tries to work out how to use PySMT to do some useful stuff"
   ]
  },
  {
   "cell_type": "code",
   "execution_count": 1,
   "metadata": {},
   "outputs": [],
   "source": [
    "#from pysmt.shortcuts import (\n",
    "#    Symbol, BOOL, INT, REAL,\n",
    "#    Bool, Int, Real,\n",
    "#    TRUE, FALSE, And, Or, Not,\n",
    "#    GT, GE, LE, LT, Equals, NotEquals,\n",
    "#    Plus, Minus, Times, Div   \n",
    "#)\n",
    "import pysmt\n",
    "from pysmt import shortcuts as SMT"
   ]
  },
  {
   "cell_type": "code",
   "execution_count": 2,
   "metadata": {},
   "outputs": [],
   "source": [
    "def _get_smt_solver(logic = None):\n",
    "    factory = pysmt.factory.Factory(pysmt.shortcuts.get_env())\n",
    "    slvs    = factory.all_solvers()\n",
    "    if len(slvs) == 0: raise OSError(\"Could not find any SMT solvers\")\n",
    "    return pysmt.shortcuts.Solver(name=next(iter(slvs)),logic=logic)\n",
    "SLV = _get_smt_solver()"
   ]
  },
  {
   "cell_type": "markdown",
   "metadata": {},
   "source": [
    "We'll want to use the following major functions to manage the state of the solver:\n",
    "\n",
    "* `SLV.reset_assertions()` - to reset from other possible invocations\n",
    "* `SLV.add_assertion(formula)` - to add preconditions\n",
    "* `SLV.push()` and `SLV.pop()` - to manage contexts of preconditions\n",
    "* `SLV.is_valid(formula)` - to check a goal\n",
    "* `SLV.solve()` - to check whether the current set of assumptions is satisfiable"
   ]
  },
  {
   "cell_type": "code",
   "execution_count": 3,
   "metadata": {},
   "outputs": [],
   "source": [
    "SLV.reset_assertions()"
   ]
  },
  {
   "cell_type": "markdown",
   "metadata": {},
   "source": [
    "A simple example from the PySMT documentation"
   ]
  },
  {
   "cell_type": "code",
   "execution_count": 4,
   "metadata": {},
   "outputs": [
    {
     "data": {
      "text/plain": [
       "(A & (! B))"
      ]
     },
     "execution_count": 4,
     "metadata": {},
     "output_type": "execute_result"
    }
   ],
   "source": [
    "varA    = SMT.Symbol(\"A\") # default var type is Boolean\n",
    "varB    = SMT.Symbol(\"B\")\n",
    "f       = SMT.And(varA, SMT.Not(varB))\n",
    "f"
   ]
  },
  {
   "cell_type": "code",
   "execution_count": 5,
   "metadata": {},
   "outputs": [
    {
     "data": {
      "text/plain": [
       "True"
      ]
     },
     "execution_count": 5,
     "metadata": {},
     "output_type": "execute_result"
    }
   ],
   "source": [
    "SLV.is_sat(f)"
   ]
  },
  {
   "cell_type": "code",
   "execution_count": 6,
   "metadata": {},
   "outputs": [
    {
     "data": {
      "text/plain": [
       "(A & (! A))"
      ]
     },
     "execution_count": 6,
     "metadata": {},
     "output_type": "execute_result"
    }
   ],
   "source": [
    "g = f.substitute({varB: varA})\n",
    "g"
   ]
  },
  {
   "cell_type": "code",
   "execution_count": 7,
   "metadata": {},
   "outputs": [
    {
     "data": {
      "text/plain": [
       "False"
      ]
     },
     "execution_count": 7,
     "metadata": {},
     "output_type": "execute_result"
    }
   ],
   "source": [
    "SLV.is_sat(g)"
   ]
  },
  {
   "cell_type": "markdown",
   "metadata": {},
   "source": [
    "Let's show that linear integer problems work correctly with a very simple example."
   ]
  },
  {
   "cell_type": "code",
   "execution_count": 8,
   "metadata": {},
   "outputs": [],
   "source": [
    "SLV.reset_assertions()"
   ]
  },
  {
   "cell_type": "code",
   "execution_count": 9,
   "metadata": {
    "scrolled": false
   },
   "outputs": [
    {
     "name": "stdout",
     "output_type": "stream",
     "text": [
      "0 False\n",
      "1 False\n",
      "2 False\n",
      "3 False\n",
      "4 False\n",
      "5 True\n",
      "6 True\n",
      "7 True\n",
      "8 True\n",
      "9 True\n",
      "-----\n",
      "-2 False\n",
      "-1 False\n",
      "0 True\n",
      "1 False\n",
      "2 True\n",
      "3 False\n",
      "4 True\n",
      "5 False\n",
      "6 True\n",
      "7 False\n",
      "8 True\n",
      "9 False\n",
      "10 False\n",
      "11 False\n"
     ]
    }
   ],
   "source": [
    "i, j    = SMT.Symbol(\"i\",SMT.INT), SMT.Symbol(\"j\",SMT.INT)\n",
    "SLV.push()\n",
    "SLV.add_assertion( SMT.Equals(i, SMT.Times(SMT.Int(2),j)) )\n",
    "SLV.add_assertion( SMT.And(SMT.GE(i, SMT.Int(0)), SMT.LT(i, SMT.Int(10))) )\n",
    "for j_hi in range(0,10): print(j_hi, SLV.is_valid( SMT.LT(j, SMT.Int(j_hi)) ))\n",
    "print(\"-----\")\n",
    "for i_const in range(-2,12): print(i_const, SLV.is_sat( SMT.Equals(i, SMT.Int(i_const)) ))\n",
    "SLV.pop()"
   ]
  },
  {
   "cell_type": "markdown",
   "metadata": {},
   "source": [
    "Yup, looks like they work.  Keep in mind that we need to use this particular `SMT.INT` type, and `SMT.Int` lifts constants into formulae constants of the appropriate type."
   ]
  },
  {
   "cell_type": "code",
   "execution_count": 11,
   "metadata": {},
   "outputs": [
    {
     "data": {
      "text/plain": [
       "x$1"
      ]
     },
     "execution_count": 11,
     "metadata": {},
     "output_type": "execute_result"
    }
   ],
   "source": [
    "x = SMT.Symbol(\"x$1\",SMT.INT)\n",
    "x"
   ]
  },
  {
   "cell_type": "code",
   "execution_count": null,
   "metadata": {},
   "outputs": [],
   "source": []
  },
  {
   "cell_type": "code",
   "execution_count": 35,
   "metadata": {},
   "outputs": [
    {
     "data": {
      "text/plain": [
       "True"
      ]
     },
     "execution_count": 35,
     "metadata": {},
     "output_type": "execute_result"
    }
   ],
   "source": [
    "SMT.INT == INT"
   ]
  }
 ],
 "metadata": {
  "kernelspec": {
   "display_name": "Python 3",
   "language": "python",
   "name": "python3"
  },
  "language_info": {
   "codemirror_mode": {
    "name": "ipython",
    "version": 3
   },
   "file_extension": ".py",
   "mimetype": "text/x-python",
   "name": "python",
   "nbconvert_exporter": "python",
   "pygments_lexer": "ipython3",
   "version": "3.7.3"
  }
 },
 "nbformat": 4,
 "nbformat_minor": 2
}
