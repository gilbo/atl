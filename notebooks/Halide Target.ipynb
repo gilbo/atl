{
 "cells": [
  {
   "cell_type": "markdown",
   "metadata": {},
   "source": [
    "One idea that we ought to be able to leverage is to create a module (with an accompanying IR interface) that abstracts the Halide code target.  Doing this will hopefully simplify code-generation, as well as allow us to dump out \"the Halide program\" in a form that people unfamiliar with this tensor language can understand and appreciate.\n",
    "\n",
    "In order to encapsulate some useful interface functionality we, will also put bindings with the NumPy library in this module."
   ]
  },
  {
   "cell_type": "code",
   "execution_count": 1,
   "metadata": {},
   "outputs": [],
   "source": [
    "import sys\n",
    "sys.path.append('../')\n",
    "sys.path.append('../src/')\n",
    "from adt import ADT\n",
    "from adt import memo as ADTmemo\n",
    "import numpy as np\n",
    "import ctypes\n",
    "from halide import halide_type_t, halide_buffer_t, halide_dimension_t\n",
    "from halide import hw_expr_t, hw_var_t, hw_rdom_t, hw_func_t, hw_img_t, hw_param_t\n",
    "from halide import C"
   ]
  },
  {
   "cell_type": "markdown",
   "metadata": {},
   "source": [
    "# Halide IR\n",
    "\n",
    "A Halide program is a sequence of statements (stages), each of which either defines or updates a given `func`.  All updates to a func must come immediately subsequent to the definition of that func.\n",
    "\n",
    "At the start of the program, some number of `var` and `rdom` variables may be declared.\n",
    "\n",
    "The overall program is called a \"pipeline.\"  It has zero or more inputs supplied as `param`s (scalars) or `img`s (multi-dimensional arrays).  The `img` object is backed by a `halide_buffer_t`, which we will see can be supplied from a NumPy array.  The output is likewise backed by a `halide_buffer_t`.  In order to support multiple output buffers, we use a `pipeline` object to group those output `func`s.\n",
    "\n",
    "The Halide primitive type system has `int`, `uint` and `float` with different bit-widths (e.g. 8, 16, 32, 64) and different vector widths (e.g. 1,2,3,4).  This too must be reflected in the IR."
   ]
  },
  {
   "cell_type": "code",
   "execution_count": 2,
   "metadata": {},
   "outputs": [],
   "source": [
    "binops = {\n",
    "    \"+\":    True,\n",
    "    \"-\":    True,\n",
    "    \"*\":    True,\n",
    "    \"/\":    True,\n",
    "    \"==\":   True,\n",
    "    \"<\":    True,\n",
    "    \">\":    True,\n",
    "    \"<=\":   True,\n",
    "    \">=\":   True,\n",
    "}\n",
    "\n",
    "basetypes = {\n",
    "    \"f32\":  True,\n",
    "    \"f64\":  True,\n",
    "}\n",
    "for bw in [\"8\",\"16\",\"32\",\"64\"]:\n",
    "    basetypes[\"i\"+bw] = True\n",
    "    basetypes[\"u\"+bw] = True\n",
    "\n",
    "HIR = ADT(\"\"\"\n",
    "module HIR {\n",
    "    pipeline   = Pipeline  ( var*   vars,\n",
    "                             rdom*  rdoms,\n",
    "                             func*  funcs,\n",
    "                             param* params,\n",
    "                             img*   imgs,\n",
    "                             stmt*  stmts,\n",
    "                             func*  outputs )\n",
    "\n",
    "    var    = Var       ( string name )\n",
    "    rdom   = RDom      ( string name, range* bounds )\n",
    "    param  = Param     ( string name, type typ )\n",
    "    img    = Img       ( string name, int ndim, type typ )\n",
    "    func   = Func      ( string name )\n",
    "           | ImgFunc   ( img img )\n",
    "    \n",
    "    expr   = Const     ( object v, type typ )\n",
    "           | Evar      ( var v )\n",
    "           | Erdom     ( rdom r )\n",
    "           | Eparam    ( param p )\n",
    "           | BinOp     ( op op, expr lhs, expr rhs )\n",
    "           | Min       ( expr lhs, expr rhs )\n",
    "           | Max       ( expr lhs, expr rhs )\n",
    "           | Select    ( expr pred, expr lhs, expr rhs )\n",
    "           | FAccess   ( func f, expr* args )\n",
    "           | BigSum    ( rdom r, expr body )\n",
    "    \n",
    "    stmt   = PureDef   ( func f, var* args, expr rhs )\n",
    "           | Update    ( func f, expr* args, expr rhs )\n",
    "    \n",
    "    range  = Range ( expr lo, expr hi )\n",
    "    type   = Type  ( typbase base, int lanes )\n",
    "}\n",
    "\"\"\", {\n",
    "    'op':         lambda x:  x in binops,\n",
    "    'typbase':    lambda x:  x in basetypes,\n",
    "})\n",
    "ADTmemo(HIR,['Type'],{'typbase': lambda x: x})\n",
    "f32, f64            = HIR.Type('f32',1), HIR.Type('f64',1)\n",
    "u8,  u16, u32, u64  = (HIR.Type('u8',1),  HIR.Type('u16',1),\n",
    "                       HIR.Type('u32',1), HIR.Type('u64',1))\n",
    "i8,  i16, i32, i64  = (HIR.Type('i8',1),  HIR.Type('i16',1),\n",
    "                       HIR.Type('i32',1), HIR.Type('i64',1))"
   ]
  },
  {
   "cell_type": "markdown",
   "metadata": {},
   "source": [
    "## Input Short-hand\n",
    "\n",
    "In order to make the IR easier to input in this notebook, let's create some shorthand."
   ]
  },
  {
   "cell_type": "code",
   "execution_count": 3,
   "metadata": {},
   "outputs": [],
   "source": [
    "def _lift_(obj):\n",
    "    if isinstance(obj,HIR.expr):\n",
    "        return obj\n",
    "    if isinstance(obj,HIR.func):\n",
    "        return obj\n",
    "    elif isinstance(obj,HIR.Var):\n",
    "        return HIR.Evar(obj)\n",
    "    elif isinstance(obj,HIR.RDom):\n",
    "        return HIR.Erdom(obj)\n",
    "    elif isinstance(obj,HIR.Param):\n",
    "        return HIR.Eparam(obj)\n",
    "    elif isinstance(obj,HIR.Img):\n",
    "        return HIR.ImgFunc(obj)\n",
    "    elif type(obj) is int:\n",
    "        return HIR.Const(obj,i32)\n",
    "    elif type(obj) is float:\n",
    "        return HIR.Const(obj,f64)\n",
    "    else:\n",
    "        raise TypeError(\"unrecognized object type\")\n",
    "\n",
    "def _Min(x,y):\n",
    "    return HIR.Min(_lift_(x),_lift_(y))\n",
    "def _Max(x,y):\n",
    "    return HIR.Max(_lift_(x),_lift_(y))\n",
    "\n",
    "def _expr_add_(lhs,rhs):\n",
    "    return HIR.BinOp('+',_lift_(lhs),_lift_(rhs))\n",
    "HIR.expr.__add__  = _expr_add_\n",
    "HIR.expr.__radd__ = lambda r,l: _expr_add_(l,r)\n",
    "\n",
    "def _expr_sub_(lhs,rhs):\n",
    "    return HIR.BinOp('-',_lift_(lhs),_lift_(rhs))\n",
    "HIR.expr.__sub__  = _expr_sub_\n",
    "HIR.expr.__rsub__ = lambda r,l: _expr_sub_(l,r)\n",
    "\n",
    "def _expr_mul_(lhs,rhs):\n",
    "    return HIR.BinOp('*',_lift_(lhs),_lift_(rhs))\n",
    "HIR.expr.__mul__  = _expr_mul_\n",
    "HIR.expr.__rmul__ = lambda r,l: _expr_mul_(l,r)\n",
    "\n",
    "def _expr_div_(lhs,rhs):\n",
    "    return HIR.BinOp('/',_lift_(lhs),_lift_(rhs))\n",
    "HIR.expr.__truediv__  = _expr_div_\n",
    "HIR.expr.__rtruediv__ = lambda r,l: _expr_div_(l,r)\n",
    "\n",
    "def _expr_lt_(lhs,rhs):\n",
    "    return HIR.BinOp('<',_lift_(lhs),_lift_(rhs))\n",
    "HIR.expr.__lt__  = _expr_lt_\n",
    "HIR.expr.__rlt__ = lambda r,l: _expr_lt_(l,r)\n",
    "\n",
    "def _expr_gt_(lhs,rhs):\n",
    "    return HIR.BinOp('>',_lift_(lhs),_lift_(rhs))\n",
    "HIR.expr.__gt__  = _expr_gt_\n",
    "HIR.expr.__rgt__ = lambda r,l: _expr_gt_(l,r)\n",
    "\n",
    "def _expr_le_(lhs,rhs):\n",
    "    return HIR.BinOp('<=',_lift_(lhs),_lift_(rhs))\n",
    "HIR.expr.__le__  = _expr_le_\n",
    "HIR.expr.__rle__ = lambda r,l: _expr_le_(l,r)\n",
    "\n",
    "def _expr_ge_(lhs,rhs):\n",
    "    return HIR.BinOp('>=',_lift_(lhs),_lift_(rhs))\n",
    "HIR.expr.__ge__  = _expr_ge_\n",
    "HIR.expr.__rge__ = lambda r,l: _expr_ge_(l,r)\n",
    "\n",
    "# expose arithmetic operators to un-lifted vars, rdoms, params\n",
    "for t in [HIR.var,HIR.rdom,HIR.param]:\n",
    "    for nm in ['__add__','__sub__','__mul__','__truediv__',\n",
    "               '__radd__','__rsub__','__rmul__','__rtruediv__',\n",
    "               '__lt__','__gt__','__le__','__ge__',\n",
    "               '__rlt__','__rgt__','__rle__','__rge__']:\n",
    "        setattr(t,nm,getattr(HIR.expr,nm))\n",
    "\n",
    "def _func_getitem_(f,keys):\n",
    "    if not type(keys) is tuple: keys = (keys,)\n",
    "    keys    = [ _lift_(k) for k in keys ]\n",
    "    f       = _lift_(f)\n",
    "    return HIR.FAccess(f,keys)\n",
    "HIR.func.__getitem__ = _func_getitem_\n",
    "HIR.img.__getitem__  = _func_getitem_"
   ]
  },
  {
   "cell_type": "markdown",
   "metadata": {},
   "source": [
    "### Example Halide Programs in the IR\n",
    "\n",
    "Let's try to write:\n",
    "*   a 3x3 blur kernel\n",
    "*   a Laplacian-based energy sum of squares\n",
    "*   an image gradient output as two separate images for dx and dy"
   ]
  },
  {
   "cell_type": "code",
   "execution_count": 4,
   "metadata": {},
   "outputs": [],
   "source": [
    "def gen_blur():\n",
    "    lift        = _lift_\n",
    "    Min, Max    = _Min, _Max\n",
    "    in_img      = HIR.Img('in_img', 2, f64)\n",
    "    w, h        = HIR.Param('w',i32), HIR.Param('h',i32)\n",
    "    clamp       = lambda x,lo,hi: Max( lo, Min( hi, x ) )\n",
    "    \n",
    "    x, y        = HIR.Var('x'), HIR.Var('y')\n",
    "    f           = HIR.Func('f')\n",
    "    blur_x      = HIR.Func('blur_x')\n",
    "    blur_y      = HIR.Func('blur_y')\n",
    "    \n",
    "    stmts       = [\n",
    "        HIR.PureDef( f, [x,y], in_img[clamp(x,0,w-1),clamp(y,0,h-1)]),\n",
    "        HIR.PureDef( blur_x, [x,y], (f[x-1,y] + 2.0*f[x,y] + f[x+1,y])/4.0 ),\n",
    "        HIR.PureDef( blur_y, [x,y], (blur_x[x,y-1] + 2.0*blur_x[x,y] + blur_x[x,y+1])/4.0 ),\n",
    "    ]\n",
    "    \n",
    "    pipeline     = HIR.Pipeline(\n",
    "                     vars    = [x,y],\n",
    "                     rdoms   = [],\n",
    "                     funcs   = [f,blur_x,blur_y],\n",
    "                     params  = [w,h],\n",
    "                     imgs    = [in_img],\n",
    "                     stmts   = stmts,\n",
    "                     outputs = [blur_y])\n",
    "    return pipeline\n",
    "blurpipe = gen_blur()\n",
    "\n",
    "def gen_laplacian():\n",
    "    lift        = _lift_\n",
    "    Min, Max    = _Min, _Max\n",
    "    f           = HIR.Img('f', 2, f64)\n",
    "    w, h        = HIR.Param('w',i32), HIR.Param('h',i32)\n",
    "    \n",
    "    x           = HIR.RDom('x', [HIR.Range(lift(0),lift(w))])\n",
    "    y           = HIR.RDom('y', [HIR.Range(lift(0),lift(h))])\n",
    "    result      = HIR.Func('result')\n",
    "    dx, dy      = HIR.Func('dx'), HIR.Func('dy')\n",
    "    i, j        = HIR.Var('i'), HIR.Var('j')\n",
    "    \n",
    "    Eq          = lambda x,y: HIR.BinOp('==',lift(x),lift(y))\n",
    "    body        = ( HIR.Select( Eq(x,w-1), lift(0.0), dx[x,y]*dx[x,y] ) +\n",
    "                    HIR.Select( Eq(y,h-1), lift(0.0), dy[x,y]*dy[x,y] ) )\n",
    "    \n",
    "    stmts       = [\n",
    "        HIR.PureDef(dx, [i,j], f[Min(i+1,w-1),j] - f[i,j]),\n",
    "        HIR.PureDef(dy, [i,j], f[i,Min(j+1,h-1)] - f[i,j]),\n",
    "        HIR.PureDef(result, [i], lift(0.0)),\n",
    "        HIR.Update (result, [lift(0)], HIR.BigSum(x, HIR.BigSum(y, body))),\n",
    "    ]\n",
    "    \n",
    "    pipeline     = HIR.Pipeline(\n",
    "                     vars    = [i,j],\n",
    "                     rdoms   = [x,y],\n",
    "                     funcs   = [result,dx,dy],\n",
    "                     params  = [w,h],\n",
    "                     imgs    = [f],\n",
    "                     stmts   = stmts,\n",
    "                     outputs = [result])\n",
    "    return pipeline\n",
    "laplacepipe = gen_laplacian()\n",
    "\n",
    "def gen_grad():\n",
    "    lift        = _lift_\n",
    "    f           = HIR.Img('f', 2, f64)\n",
    "    \n",
    "    result      = HIR.Func('result')\n",
    "    dx, dy      = HIR.Func('dx'), HIR.Func('dy')\n",
    "    i, j        = HIR.Var('i'), HIR.Var('j')\n",
    "    \n",
    "    stmts       = [\n",
    "        HIR.PureDef(dx, [i,j], f[i+1,j] - f[i,j]),\n",
    "        HIR.PureDef(dy, [i,j], f[i,j+1] - f[i,j]),\n",
    "    ]\n",
    "    \n",
    "    pipeline     = HIR.Pipeline(\n",
    "                     vars    = [i,j],\n",
    "                     rdoms   = [],\n",
    "                     funcs   = [dx,dy],\n",
    "                     params  = [],\n",
    "                     imgs    = [f],\n",
    "                     stmts   = stmts,\n",
    "                     outputs = [dx,dy])\n",
    "    return pipeline\n",
    "gradpipe = gen_grad()"
   ]
  },
  {
   "cell_type": "markdown",
   "metadata": {},
   "source": [
    "## Output Format\n",
    "\n",
    "We can read these pipeline definitions more easily if we present them in a structured output format.\n",
    "\n"
   ]
  },
  {
   "cell_type": "code",
   "execution_count": 5,
   "metadata": {},
   "outputs": [],
   "source": [
    "def _HIR_type_str_rep(t):\n",
    "    if t.lanes > 1: return f\"{t.base}v{t.lanes}\"\n",
    "    else:           return t.base\n",
    "HIR.type.__str__    = _HIR_type_str_rep\n",
    "del _HIR_type_str_rep\n",
    "\n",
    "def _HIR_var_str_rep(v):\n",
    "    return v.name\n",
    "HIR.var.__str__     = _HIR_var_str_rep\n",
    "del _HIR_var_str_rep\n",
    "\n",
    "def _HIR_rdom_str_rep(r):\n",
    "    bds = ']['.join([ f\"{rg.lo},{rg.hi}\" for rg in r.bounds ])\n",
    "    return f\"{r.name}[{bds}]\"\n",
    "HIR.rdom.__str__    = _HIR_rdom_str_rep\n",
    "del _HIR_rdom_str_rep\n",
    "\n",
    "def _HIR_param_str_rep(p):\n",
    "    return f\"{p.name} : {p.typ}\"\n",
    "HIR.param.__str__   = _HIR_param_str_rep\n",
    "del _HIR_param_str_rep\n",
    "\n",
    "def _HIR_img_str_rep(i):\n",
    "    return f\"{i.name}({i.ndim}) : {i.typ}\"\n",
    "HIR.img.__str__     = _HIR_img_str_rep\n",
    "del _HIR_img_str_rep\n",
    "\n",
    "def _HIR_func_str_rep(f):\n",
    "    if   type(f) is HIR.Func:    return f.name\n",
    "    elif type(f) is HIR.ImgFunc: return f.img.name\n",
    "HIR.func.__str__    = _HIR_func_str_rep\n",
    "del _HIR_func_str_rep\n",
    "\n",
    "_HIR_op_prec = {\n",
    "    \"+\" : 30,\n",
    "    \"-\" : 30,\n",
    "    \"*\" : 40,\n",
    "    \"/\" : 40,\n",
    "    \"<\" : 20,\n",
    "    \">\" : 20,\n",
    "    \"<=\" : 20,\n",
    "    \">=\" : 20,\n",
    "    \"==\" : 10,\n",
    "}\n",
    "def _HIR_expr_str_rep(e,prec=0):\n",
    "    eclass = type(e)\n",
    "    s      = \"ERROR\"\n",
    "    if   eclass is HIR.Evar:   s = e.v.name\n",
    "    elif eclass is HIR.Erdom:  s = e.r.name\n",
    "    elif eclass is HIR.Eparam: s = e.p.name\n",
    "    elif eclass is HIR.Const:\n",
    "        if e.typ is i32 or e.typ is f64:\n",
    "            s = str(e.v)\n",
    "        else:\n",
    "            s = f\"({e.v}:{e.typ})\"\n",
    "    elif eclass is HIR.BinOp:\n",
    "        op_prec = _HIR_op_prec[e.op]\n",
    "        s = (f\"{_HIR_expr_str_rep(e.lhs,op_prec)} {e.op} \"\n",
    "             f\"{_HIR_expr_str_rep(e.rhs,op_prec+1)}\")\n",
    "        if prec > op_prec: s = f\"({s})\"\n",
    "    elif eclass is HIR.Min or eclass is HIR.Max:\n",
    "        fname = \"Min\" if eclass is HIR.Min else \"Max\"\n",
    "        s = f\"{fname}({e.lhs},{e.rhs})\"\n",
    "    elif eclass is HIR.Select:\n",
    "        s = f\"select({e.pred},{e.lhs},{e.rhs})\"\n",
    "    elif eclass is HIR.FAccess:\n",
    "        args = ','.join([ str(a) for a in e.args ])\n",
    "        s = f\"{e.f}({args})\"\n",
    "    elif eclass is HIR.BigSum:\n",
    "        s = f\"sum({e.r.name},{e.body})\"\n",
    "    return s\n",
    "HIR.expr.__str__    = _HIR_expr_str_rep\n",
    "_HIR_expr_str_rep\n",
    "\n",
    "def _HIR_stmt_str_rep(s):\n",
    "    args = ','.join([ str(a) for a in s.args ])\n",
    "    return f\"{s.f}({args}) = {s.rhs}\"\n",
    "HIR.stmt.__str__    = _HIR_stmt_str_rep\n",
    "del _HIR_stmt_str_rep\n",
    "\n",
    "def _HIR_pipe_str_rep(p):\n",
    "    vs    = '\\n        '.join([ str(v) for v in p.vars ])\n",
    "    rs    = '\\n        '.join([ str(r) for r in p.rdoms ])\n",
    "    fs    = '\\n        '.join([ str(f) for f in p.funcs ])\n",
    "    ps    = '\\n        '.join([ str(p) for p in p.params ])\n",
    "    imgs  = '\\n        '.join([ str(i) for i in p.imgs ])\n",
    "    stmts = '\\n        '.join([ str(s) for s in p.stmts ])\n",
    "    outs  = '\\n        '.join([ str(o) for o in p.outputs ])\n",
    "    \n",
    "    s = (f\"Var     {vs}\\n\"\n",
    "         f\"RDom    {rs}\\n\"\n",
    "         f\"Func    {fs}\\n\"\n",
    "         f\"Param   {ps}\\n\"\n",
    "         f\"Img     {imgs}\\n\"\n",
    "         f\"Stmt    {stmts}\\n\"\n",
    "         f\"Out     {outs}\")\n",
    "    return s\n",
    "HIR.pipeline.__str__ = _HIR_pipe_str_rep\n",
    "del _HIR_pipe_str_rep"
   ]
  },
  {
   "cell_type": "markdown",
   "metadata": {},
   "source": [
    "### Printing Out the Example Programs"
   ]
  },
  {
   "cell_type": "code",
   "execution_count": 6,
   "metadata": {
    "scrolled": false
   },
   "outputs": [
    {
     "name": "stdout",
     "output_type": "stream",
     "text": [
      "Blur Pipeline\n",
      "----------\n",
      "Var     x\n",
      "        y\n",
      "RDom    \n",
      "Func    f\n",
      "        blur_x\n",
      "        blur_y\n",
      "Param   w : i32\n",
      "        h : i32\n",
      "Img     in_img(2) : f64\n",
      "Stmt    f(x,y) = in_img(Max(0,Min(w - 1,x)),Max(0,Min(h - 1,y)))\n",
      "        blur_x(x,y) = (f(x - 1,y) + 2.0 * f(x,y) + f(x + 1,y)) / 4.0\n",
      "        blur_y(x,y) = (blur_x(x,y - 1) + 2.0 * blur_x(x,y) + blur_x(x,y + 1)) / 4.0\n",
      "Out     blur_y\n",
      "\n",
      "\n",
      "Laplacian Energy Pipeline\n",
      "----------\n",
      "Var     i\n",
      "        j\n",
      "RDom    x[0,w]\n",
      "        y[0,h]\n",
      "Func    result\n",
      "        dx\n",
      "        dy\n",
      "Param   w : i32\n",
      "        h : i32\n",
      "Img     f(2) : f64\n",
      "Stmt    dx(i,j) = f(Min(i + 1,w - 1),j) - f(i,j)\n",
      "        dy(i,j) = f(i,Min(j + 1,h - 1)) - f(i,j)\n",
      "        result(i) = 0.0\n",
      "        result(0) = sum(x,sum(y,select(x == w - 1,0.0,dx(x,y) * dx(x,y)) + select(y == h - 1,0.0,dy(x,y) * dy(x,y))))\n",
      "Out     result\n",
      "\n",
      "\n",
      "Gradient Pipeline\n",
      "----------\n",
      "Var     i\n",
      "        j\n",
      "RDom    \n",
      "Func    dx\n",
      "        dy\n",
      "Param   \n",
      "Img     f(2) : f64\n",
      "Stmt    dx(i,j) = f(i + 1,j) - f(i,j)\n",
      "        dy(i,j) = f(i,j + 1) - f(i,j)\n",
      "Out     dx\n",
      "        dy\n"
     ]
    }
   ],
   "source": [
    "print(\"Blur Pipeline\\n----------\")\n",
    "print(blurpipe)\n",
    "print(\"\\n\\nLaplacian Energy Pipeline\\n----------\")\n",
    "print(laplacepipe)\n",
    "print(\"\\n\\nGradient Pipeline\\n----------\")\n",
    "print(gradpipe)"
   ]
  },
  {
   "cell_type": "markdown",
   "metadata": {},
   "source": [
    "## Executing a Pipeline\n",
    "\n",
    "We would like some way to execute a pipeline.  In general, we may want other ways to execute or compile a pipeline, but for the time being, we will rely on the following ideas.\n",
    "\n",
    "Every pipeline has some number of `Var`, `RDom`, and `Func` variables.  However, by definition these must all be internal to the pipeline.  Specifically `Param` and `Img` variables represent external inputs.  And then the output funcs represent the returned values.\n",
    "\n",
    "Therefore we can define a Halide pipeline's compilation to a function as supplying and receiving these specific parameters and buffers.  The multi-dimensional buffers will be specified as numpy arrays.\n",
    "\n",
    "To begin, we must lower all of the pipeline IR nodes into Halide objects, which I will call \"compilation\" here even though the Halide compiler has not properly been invoked yet."
   ]
  },
  {
   "cell_type": "code",
   "execution_count": 7,
   "metadata": {},
   "outputs": [],
   "source": [
    "def _HIR_Type_struct(typ):\n",
    "    if hasattr(typ, '_cached_struct'): return typ._cached_struct\n",
    "    if   typ.base[0] == 'f': flag = C.type_float\n",
    "    elif typ.base[0] == 'u': flag = C.type_uint\n",
    "    elif typ.base[0] == 'i': flag = C.type_int\n",
    "    bits = int(typ.base[1:])\n",
    "    typ._cached_struct = halide_type_t(flag,bits,typ.lanes)\n",
    "    return typ._cached_struct\n",
    "HIR.Type.struct = _HIR_Type_struct\n",
    "del _HIR_Type_struct\n",
    "\n",
    "class _HIR_Compilation:\n",
    "    def __init__(self, pipe):\n",
    "        self._pipe   = pipe\n",
    "        self._vars   = {\n",
    "            v : C.hwrap_new_var(bytes(v.name,'utf-8'))\n",
    "            for v in pipe.vars }\n",
    "        self._params = {\n",
    "            p : C.hwrap_new_param(bytes(p.name,'utf-8'),\n",
    "                                  p.typ.struct())\n",
    "            for p in pipe.params }\n",
    "        self._imgs   = {\n",
    "            i : C.hwrap_new_img(bytes(i.name,'utf-8'),\n",
    "                                i.ndim, i.typ.struct())\n",
    "            for i in pipe.imgs }\n",
    "        self._funcs  = {\n",
    "            f : C.hwrap_new_func(bytes(f.name,'utf-8'))\n",
    "            for f in pipe.funcs }\n",
    "        self._rdoms  = {}\n",
    "        self._exprs  = {}\n",
    "        self._stmts  = {\n",
    "            s : self.get_stmt(s)\n",
    "            for s in pipe.stmts }\n",
    "        \n",
    "    \n",
    "    def get_func(self,f):\n",
    "        if f in self._funcs: return self._funcs[f]\n",
    "        else:\n",
    "            assert type(f) is HIR.ImgFunc\n",
    "            f_img   = C.hwrap_img_to_func(self._imgs[f.img])\n",
    "            self._funcs[f] = f_img\n",
    "            return f_img\n",
    "    \n",
    "    def get_rdom(self,r):\n",
    "        if r in self._rdoms: return self._rdoms[r]\n",
    "        n_bd    = len(r.bounds)\n",
    "        bds     = []\n",
    "        for rng in r.bounds:\n",
    "            bds.append( self.get_expr(rng.lo) )\n",
    "            bds.append( self.get_expr(rng.hi) )\n",
    "        c_bds   = ((n_bd * 2) * hw_expr_t)(*bds)\n",
    "        rd = C.hwrap_new_rdom(bytes(r.name,'utf-8'),\n",
    "                              n_bd, c_bds)\n",
    "        self._rdoms[r] = rd\n",
    "        return rd\n",
    "    \n",
    "    def get_expr(self,e):\n",
    "        if e in self._exprs: return self._exprs[e]\n",
    "        ee      = None\n",
    "        eclass  = type(e)\n",
    "        if   eclass is HIR.Const:\n",
    "            assert e.typ.lanes == 1\n",
    "            ee  = getattr(C, f\"hwrap_{e.typ.base}_to_expr\")(e.v)\n",
    "        elif eclass is HIR.Evar:\n",
    "            ee  = C.hwrap_var_to_expr(self._vars[e.v])\n",
    "        elif eclass is HIR.Erdom:\n",
    "            rr  = self.get_rdom(e.r)\n",
    "            ee  = C.hwrap_rdom_to_expr(rr)\n",
    "        elif eclass is HIR.Eparam:\n",
    "            ee  = C.hwrap_param_to_expr(self._params[e.p])\n",
    "        elif eclass is HIR.BinOp:\n",
    "            if   e.op == \"+\":   op_f = C.hwrap_add\n",
    "            elif e.op == \"-\":   op_f = C.hwrap_sub\n",
    "            elif e.op == \"*\":   op_f = C.hwrap_mul\n",
    "            elif e.op == \"/\":   op_f = C.hwrap_div\n",
    "            elif e.op == \"==\":  op_f = C.hwrap_eq\n",
    "            elif e.op == \"<\":   op_f = C.hwrap_lt\n",
    "            elif e.op == \">\":   op_f = C.hwrap_gt\n",
    "            elif e.op == \"<=\":  op_f = C.hwrap_le\n",
    "            elif e.op == \">=\":  op_f = C.hwrap_ge\n",
    "            else: assert False, f\"unrecognized operator: {e.op}\"\n",
    "            ee  = op_f(self.get_expr(e.lhs), self.get_expr(e.rhs))\n",
    "        elif eclass is HIR.Min:\n",
    "            ee  = C.hwrap_min(self.get_expr(e.lhs), self.get_expr(e.rhs))\n",
    "        elif eclass is HIR.Max:\n",
    "            ee  = C.hwrap_max(self.get_expr(e.lhs), self.get_expr(e.rhs))\n",
    "        elif eclass is HIR.Select:\n",
    "            ee  = C.hwrap_select(self.get_expr(e.pred),\n",
    "                                 self.get_expr(e.lhs),\n",
    "                                 self.get_expr(e.rhs))\n",
    "        elif eclass is HIR.FAccess:\n",
    "            args    = [ self.get_expr(a) for a in e.args ]\n",
    "            c_args  = (len(args)*hw_expr_t)(*args)\n",
    "            ee  = C.hwrap_access_func(self.get_func(e.f),\n",
    "                                      len(args),c_args)\n",
    "        elif eclass is HIR.BigSum:\n",
    "            r   = self.get_rdom(e.r)\n",
    "            ee  = C.hwrap_big_sum(r, self.get_expr(e.body))\n",
    "        self._exprs[e]  = ee\n",
    "        return ee\n",
    "    \n",
    "    def get_stmt(self, s):\n",
    "        f       = self.get_func(s.f)\n",
    "        rhs     = self.get_expr(s.rhs)\n",
    "        if type(s) is HIR.PureDef:\n",
    "            args    = [ self._vars[v] for v in s.args ]\n",
    "            c_args  = (len(args)*hw_var_t)(*args)\n",
    "            return C.hwrap_pure_def(f, len(args), c_args, rhs)\n",
    "        elif type(s) is HIR.Update:\n",
    "            args    = [ self.get_expr(e) for e in s.args ]\n",
    "            c_args  = (len(args)*hw_expr_t)(*args)\n",
    "            return C.hwrap_update(f, len(args), c_args, rhs)\n",
    "        "
   ]
  },
  {
   "cell_type": "markdown",
   "metadata": {},
   "source": [
    "### NumPy Bindings\n",
    "\n",
    "Let's go ahead and include these buffer conversions here.  We'll need them to actually execute a pipeline."
   ]
  },
  {
   "cell_type": "code",
   "execution_count": 8,
   "metadata": {},
   "outputs": [],
   "source": [
    "def _ndarray_to_halide_buf(a):\n",
    "    def typ_convert(dt):\n",
    "        t = dt.type\n",
    "        # remapping to prevent some pointless errors\n",
    "        if t is float:\n",
    "            t = np.float64 if (sys.float_info.max_exp == 1024) else np.float32\n",
    "        if t is int:   t = np.int32\n",
    "        # main case switch\n",
    "        if   t is np.int8:    return halide_type_t(C.type_int,8,1)\n",
    "        elif t is np.int16:   return halide_type_t(C.type_int,16,1)\n",
    "        elif t is np.int32:   return halide_type_t(C.type_int,32,1)\n",
    "        elif t is np.int64:   return halide_type_t(C.type_int,64,1)\n",
    "        elif t is np.uint8:   return halide_type_t(C.type_uint,8,1)\n",
    "        elif t is np.uint16:  return halide_type_t(C.type_uint,16,1)\n",
    "        elif t is np.uint32:  return halide_type_t(C.type_uint,32,1)\n",
    "        elif t is np.uint64:  return halide_type_t(C.type_uint,64,1)\n",
    "        elif t is np.float32: return halide_type_t(C.type_float,32,1)\n",
    "        elif t is np.float64: return halide_type_t(C.type_float,64,1)\n",
    "        else:\n",
    "            raise TypeError(f\"unexpected type {t}\")\n",
    "    \n",
    "    buf  = halide_buffer_t()\n",
    "    buf.device              = 0\n",
    "    buf.device_interface    = None\n",
    "    buf.host                = a.ctypes.data_as(ctypes.POINTER(ctypes.c_ubyte))\n",
    "    buf.flags               = 0\n",
    "    buf.type                = typ_convert(a.dtype)\n",
    "    buf.dimensions          = a.ndim\n",
    "    buf.dim                 = (halide_dimension_t * a.ndim)()\n",
    "    # now loop through and sort out each dimension\n",
    "    for k in range(0,a.ndim):\n",
    "        s = int(a.strides[k] / a.itemsize)\n",
    "        assert a.strides[k] % a.itemsize == 0\n",
    "        buf.dim[k] = halide_dimension_t(0,a.shape[k],s,0)\n",
    "    buf.padding             = None\n",
    "    \n",
    "    return buf\n"
   ]
  },
  {
   "cell_type": "markdown",
   "metadata": {},
   "source": [
    "Testing that this works."
   ]
  },
  {
   "cell_type": "code",
   "execution_count": 9,
   "metadata": {},
   "outputs": [
    {
     "data": {
      "text/plain": [
       "<halide.halide_buffer_t at 0x120f16a60>"
      ]
     },
     "execution_count": 9,
     "metadata": {},
     "output_type": "execute_result"
    }
   ],
   "source": [
    "Av = np.array([[5.,2.,0.],[2.2,0.,4.5],[0.,6.1,3.3]], order='F')\n",
    "Ahv = _ndarray_to_halide_buf(Av)\n",
    "Ahv"
   ]
  },
  {
   "cell_type": "markdown",
   "metadata": {},
   "source": [
    "### Execution\n",
    "\n",
    "In order to invoke Halide's auto-tuner we need to have estimated values for parameters and input images.  However, we don't have sufficient data to do that until we have at least one call to the Halide function.  Therefore, we must have a special JIT function to apply these estimates on the first invocation"
   ]
  },
  {
   "cell_type": "code",
   "execution_count": 10,
   "metadata": {},
   "outputs": [],
   "source": [
    "def _HIR_Type_ctype(typ):\n",
    "    if hasattr(typ, '_cached_ctype'): return typ._cached_ctype\n",
    "    if   typ.base == 'f32': ct = ctypes.c_float\n",
    "    elif typ.base == 'f64': ct = ctypes.c_double\n",
    "    elif typ.base == 'u8':  ct = ctypes.c_uint8\n",
    "    elif typ.base == 'u16': ct = ctypes.c_uint16\n",
    "    elif typ.base == 'u32': ct = ctypes.c_uint32\n",
    "    elif typ.base == 'u64': ct = ctypes.c_uint64\n",
    "    elif typ.base == 'i8':  ct = ctypes.c_int8\n",
    "    elif typ.base == 'i16': ct = ctypes.c_int16\n",
    "    elif typ.base == 'i32': ct = ctypes.c_int32\n",
    "    elif typ.base == 'i64': ct = ctypes.c_int64\n",
    "    typ._cached_ctype = ct\n",
    "    return typ._cached_ctype\n",
    "HIR.Type.ctype = _HIR_Type_ctype\n",
    "del _HIR_Type_ctype\n",
    "\n",
    "class _HIR_JIT_Execution(_HIR_Compilation):\n",
    "    def __init__(self, pipe):\n",
    "        super().__init__(pipe)\n",
    "    \n",
    "    def _check_args(self, params, imgs, outputs):\n",
    "        if type(params) != list: raise TypeError(\"expected list of 'params'\")\n",
    "        if type(imgs)   != list: raise TypeError(\"expected list of 'imgs'\")\n",
    "        if type(outputs)!= list: raise TypeError(\"expected list of 'outputs'\")\n",
    "        n_p = len(self._pipe.params)\n",
    "        n_i = len(self._pipe.imgs)\n",
    "        n_o = len(self._pipe.outputs)\n",
    "        if len(params)  != n_p: raise TypeError(f\"expected list of {n_p} 'params'\")\n",
    "        if len(imgs)    != n_i: raise TypeError(f\"expected list of {n_i} 'imgs'\")\n",
    "        if len(outputs) != n_o: raise TypeError(f\"expected list of {n_o} 'outputs'\")\n",
    "    \n",
    "    def _set_params(self, params):\n",
    "        for k,val in enumerate(params):\n",
    "            p_IR    = self._pipe.params[k]\n",
    "            p_obj   = self._params[p_IR]\n",
    "            val_ref = ctypes.byref(p_IR.typ.ctype()(val))\n",
    "            C.hwrap_set_param(p_obj,val_ref)\n",
    "        \n",
    "    def _jit_compile(self, params, imgs, outputs):\n",
    "        if hasattr(self,'_pipeline_obj'): return\n",
    "        i32 = C.hwrap_i32_to_expr\n",
    "        \n",
    "        self._set_params(params)\n",
    "        \n",
    "        # estimate input bounds\n",
    "        for k,np_arr in enumerate(imgs):\n",
    "            img_IR  = self._pipe.imgs[k]\n",
    "            img_obj = self._imgs[img_IR]\n",
    "            for d_i,d_N in enumerate(np_arr.shape):\n",
    "                C.hwrap_set_img_bound_estimate(img_obj,d_i,i32(0),i32(d_N))\n",
    "                \n",
    "        # estimate output bounds\n",
    "        out_fs  = []\n",
    "        for k,np_arr in enumerate(outputs):\n",
    "            out_IR  = self._pipe.outputs[k]\n",
    "            out_obj = self._funcs[out_IR]\n",
    "            out_fs.append(out_obj)\n",
    "            for d_i,d_N in enumerate(np_arr.shape):\n",
    "                C.hwrap_set_func_bound_estimate(out_obj,d_i,i32(0),i32(d_N))\n",
    "        \n",
    "        n_out   = len(outputs)\n",
    "        c_fs    = (n_out * hw_func_t)(*out_fs)\n",
    "        self._pipeline_obj = C.hwrap_new_pipeline(n_out,c_fs)\n",
    "        C.hwrap_autoschedule_pipeline(self._pipeline_obj)\n",
    "        \n",
    "    def _exec(self, params, imgs, outputs):\n",
    "        self._check_args(params,imgs,outputs)\n",
    "        self._jit_compile(params,imgs,outputs)\n",
    "        \n",
    "        # bind the arguments\n",
    "        self._set_params(params)\n",
    "        \n",
    "        # bind input buffers\n",
    "        for k,np_arr in enumerate(imgs):\n",
    "            h_buf   = _ndarray_to_halide_buf(np_arr)\n",
    "            img_obj = self._imgs[self._pipe.imgs[k]]\n",
    "            C.hwrap_set_img(img_obj, ctypes.byref(h_buf))\n",
    "        \n",
    "        # bind output buffers and Execute!\n",
    "        outs    = [ _ndarray_to_halide_buf(arr) for arr in outputs ]\n",
    "        c_outs  = (len(outs)*halide_buffer_t)(*outs)\n",
    "        C.hwrap_realize_pipeline(self._pipeline_obj, len(outs),c_outs)\n"
   ]
  },
  {
   "cell_type": "markdown",
   "metadata": {},
   "source": [
    "In order to make execution easier to invoke on a pipeline, we can augment the Pipeline object with functions directly."
   ]
  },
  {
   "cell_type": "code",
   "execution_count": 11,
   "metadata": {},
   "outputs": [],
   "source": [
    "def _HIR_Pipeline_signature(self):\n",
    "    ps    = '\\n        '.join([ str(p) for p in self.params ])\n",
    "    imgs  = '\\n        '.join([ str(i) for i in self.imgs ])\n",
    "    outs  = '\\n        '.join([ str(o) for o in self.outputs ])\n",
    "    \n",
    "    s = (f\"Param   {ps}\\n\"\n",
    "         f\"Img     {imgs}\\n\"\n",
    "         f\"Out     {outs}\")\n",
    "    return s\n",
    "HIR.Pipeline.signature = _HIR_Pipeline_signature\n",
    "del _HIR_Pipeline_signature\n",
    "    \n",
    "def _HIR_Pipeline_exec(self,params,imgs,outputs):\n",
    "    if not hasattr(self,'_executor'):\n",
    "        self._executor = _HIR_JIT_Execution(self)\n",
    "    self._executor._exec(params,imgs,outputs)\n",
    "HIR.Pipeline.exec = _HIR_Pipeline_exec\n",
    "del _HIR_Pipeline_exec"
   ]
  },
  {
   "cell_type": "markdown",
   "metadata": {},
   "source": [
    "### Testing Execution\n",
    "\n",
    "First, let's get a couple of test images..."
   ]
  },
  {
   "cell_type": "code",
   "execution_count": 12,
   "metadata": {},
   "outputs": [],
   "source": [
    "import PIL.Image"
   ]
  },
  {
   "cell_type": "code",
   "execution_count": 13,
   "metadata": {},
   "outputs": [],
   "source": [
    "def gen_checker_arr(w,h,k):\n",
    "    a = []\n",
    "    for x in range(0,w):\n",
    "        a.append([])\n",
    "        x_1     = (x//k)%2\n",
    "        for y in range(0,h):\n",
    "            y_1     = (y//k)%2\n",
    "            a[x].append( float((x_1+y_1)%2) )\n",
    "    return np.array(a, order='F')\n",
    "\n",
    "checker = gen_checker_arr(100,100,10)\n",
    "\n",
    "def gen_ramp_arr(w,h):\n",
    "    a = []\n",
    "    for x in range(0,w):\n",
    "        a.append([])\n",
    "        for y in range(0,h):\n",
    "            a[x].append( float(x+y) )\n",
    "    return np.array(a, order='F')\n",
    "\n",
    "ramp = gen_ramp_arr(100,100)\n",
    "Z    = np.zeros([100,100], order='F')"
   ]
  },
  {
   "cell_type": "code",
   "execution_count": 14,
   "metadata": {},
   "outputs": [
    {
     "data": {
      "image/png": "[encoded data removed]",
      "text/plain": [
       "<PIL.Image.Image image mode=RGB size=100x100 at 0x120FB7978>"
      ]
     },
     "metadata": {},
     "output_type": "display_data"
    },
    {
     "data": {
      "image/png": "[encoded data removed]",
      "text/plain": [
       "<PIL.Image.Image image mode=RGB size=100x100 at 0x120FB7278>"
      ]
     },
     "metadata": {},
     "output_type": "display_data"
    }
   ],
   "source": [
    "display(PIL.Image.fromarray(255*checker).convert(\"RGB\"))\n",
    "display(PIL.Image.fromarray(ramp).convert(\"RGB\"))"
   ]
  },
  {
   "cell_type": "markdown",
   "metadata": {},
   "source": [
    "Now, in order to hold outputs of other sizes, we need the following buffers to be setup"
   ]
  },
  {
   "cell_type": "code",
   "execution_count": 15,
   "metadata": {},
   "outputs": [],
   "source": [
    "blur_out   = np.zeros([100,100], order='F')\n",
    "energy_out = np.zeros([1], order='F')\n",
    "grad_x_out = np.zeros([99,100], order='F')\n",
    "grad_y_out = np.zeros([100,99], order='F')"
   ]
  },
  {
   "cell_type": "markdown",
   "metadata": {},
   "source": [
    "We can call the pipelines and visualize results now..."
   ]
  },
  {
   "cell_type": "code",
   "execution_count": 16,
   "metadata": {},
   "outputs": [
    {
     "name": "stdout",
     "output_type": "stream",
     "text": [
      "INIT COMPILE\n"
     ]
    },
    {
     "data": {
      "image/png": "[encoded data removed]",
      "text/plain": [
       "<PIL.Image.Image image mode=RGB size=100x99 at 0x12125A710>"
      ]
     },
     "metadata": {},
     "output_type": "display_data"
    },
    {
     "data": {
      "image/png": "[encoded data removed]",
      "text/plain": [
       "<PIL.Image.Image image mode=RGB size=99x100 at 0x120F31160>"
      ]
     },
     "metadata": {},
     "output_type": "display_data"
    },
    {
     "data": {
      "image/png": "[encoded data removed]",
      "text/plain": [
       "<PIL.Image.Image image mode=RGB size=100x99 at 0x120F31160>"
      ]
     },
     "metadata": {},
     "output_type": "display_data"
    },
    {
     "data": {
      "image/png": "[encoded data removed]",
      "text/plain": [
       "<PIL.Image.Image image mode=RGB size=99x100 at 0x12125A7F0>"
      ]
     },
     "metadata": {},
     "output_type": "display_data"
    }
   ],
   "source": [
    "gradpipe.exec([],[ramp],[grad_x_out,grad_y_out])\n",
    "display(PIL.Image.fromarray(128*grad_x_out).convert(\"RGB\"))\n",
    "display(PIL.Image.fromarray(128*grad_y_out).convert(\"RGB\"))\n",
    "gradpipe.exec([],[checker],[grad_x_out,grad_y_out])\n",
    "display(PIL.Image.fromarray(128*grad_x_out + 128).convert(\"RGB\"))\n",
    "display(PIL.Image.fromarray(128*grad_y_out + 128).convert(\"RGB\"))"
   ]
  },
  {
   "cell_type": "code",
   "execution_count": 17,
   "metadata": {},
   "outputs": [
    {
     "name": "stdout",
     "output_type": "stream",
     "text": [
      "INIT COMPILE\n"
     ]
    },
    {
     "data": {
      "image/png": "[encoded data removed]",
      "text/plain": [
       "<PIL.Image.Image image mode=RGB size=100x100 at 0x121253F28>"
      ]
     },
     "metadata": {},
     "output_type": "display_data"
    },
    {
     "data": {
      "image/png": "[encoded data removed]",
      "text/plain": [
       "<PIL.Image.Image image mode=RGB size=100x100 at 0x121253EB8>"
      ]
     },
     "metadata": {},
     "output_type": "display_data"
    }
   ],
   "source": [
    "blurpipe.exec([100,100],[ramp],[blur_out])\n",
    "display(PIL.Image.fromarray(1*blur_out).convert(\"RGB\"))\n",
    "blurpipe.exec([100,100],[checker],[blur_out])\n",
    "display(PIL.Image.fromarray(256*blur_out).convert(\"RGB\"))"
   ]
  },
  {
   "cell_type": "code",
   "execution_count": 19,
   "metadata": {},
   "outputs": [
    {
     "name": "stdout",
     "output_type": "stream",
     "text": [
      "19800.0\n",
      "1800.0\n"
     ]
    }
   ],
   "source": [
    "laplacepipe.exec([100,100],[ramp],[energy_out])\n",
    "print(energy_out[0])\n",
    "laplacepipe.exec([100,100],[checker],[energy_out])\n",
    "print(energy_out[0])"
   ]
  },
  {
   "cell_type": "code",
   "execution_count": null,
   "metadata": {},
   "outputs": [],
   "source": []
  }
 ],
 "metadata": {
  "kernelspec": {
   "display_name": "Python 3",
   "language": "python",
   "name": "python3"
  },
  "language_info": {
   "codemirror_mode": {
    "name": "ipython",
    "version": 3
   },
   "file_extension": ".py",
   "mimetype": "text/x-python",
   "name": "python",
   "nbconvert_exporter": "python",
   "pygments_lexer": "ipython3",
   "version": "3.7.3"
  }
 },
 "nbformat": 4,
 "nbformat_minor": 2
}
