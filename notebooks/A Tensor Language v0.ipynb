{
 "cells": [
  {
   "cell_type": "code",
   "execution_count": 1,
   "metadata": {},
   "outputs": [],
   "source": [
    "import sys\n",
    "sys.path.append('../')\n",
    "from src.adt import ADT\n",
    "from src.adt import memo as ADTmemo"
   ]
  },
  {
   "cell_type": "markdown",
   "metadata": {},
   "source": [
    "In this file I'm going to sketch out a language for tensors.  To begin, let's create an initial IR to work with.  We will refine it as we go.\n",
    "\n",
    "$$\n",
    "\\newcommand{\\or}{\\ |\\ }\n",
    "\\begin{array}{rl}\n",
    "  e &= x \\or c \\or e_0 + e_1 \\or e_0 \\cdot e_1 \\\\\n",
    "  &\\or \\sum_i e \\or \\boxplus_i e \\or e_i \\or [i=j] \\\\\n",
    "  &\\or (e_0,e_1) \\or \\pi_0 e \\or \\pi_1 e \\\\\n",
    "\\end{array}\n",
    "$$\n",
    "\n",
    "In this basic expression grammar, we have three lines.  The first line loosely corresponds to polynomials: variables, constants, addition and multiplication.  Then the second line extends the basic computation language with tensors: summation over an index, construction of an array over an index ( $\\boxplus_i e$ ), indexing a tensor ( $e_i$ ), and an Iverson bracket ( $[i=j]$ ) on indices, which I'll get to in a minute.  Finally, some basic surrogate data structuring is included in the form of pair groupings.  Named dictionaries and many other more ergonomic language features can be reduced to pairs, so they work as a good middle ground between on the one hand just assuming that there won't be problems, and on the other hand getting bogged down in needlessly complicated trivial details.\n",
    "\n",
    "The Iverson bracket ( $[i=j]$ ) is a function which assumes the value $1$ if the predicate in the bracket ( $i=j$ here ) is true, and $0$ if it is false.  It forms a fundamental link between logic (Boolean Algebra) and numeric computation (Linear Algebra).  The fundamental equation relating these two worlds is the inclusion-exclusion principle.\n",
    "\n",
    "$$ [A \\vee B] + [A \\wedge B] = [A] + [B] $$\n",
    "\n",
    "If $A \\wedge B$ is false, we say that $A$ and $B$ are _logically independent_.  Given a decomposition of a predicate $A$ into $A = \\vee_i A_i$ logically independent atoms (i.e. that $i\\neq j \\implies \\neg(A_i \\wedge A_j)$), then the corresponding Iverson bracketed predicates form a linear-basis for the original term: $[A] = \\sum_i [A_i]$.  This is only true contingent on logical independence."
   ]
  },
  {
   "cell_type": "markdown",
   "metadata": {},
   "source": [
    "### Matrix-Vector Multiplication Example\n",
    "\n",
    "$$ y = \\boxplus_i\\  c_i + \\sum_j A_{i,j} \\cdot x_j$$\n",
    "\n",
    "(note that I am assuming the $\\boxplus_i$ encloses the remainder of the line)\n",
    "\n",
    "### Matrix-Trace Example\n",
    "\n",
    "$$ tr(A) = \\sum_i A_{i,i} $$\n",
    "\n",
    "### Diagonal Matrix From a Vector Example\n",
    "\n",
    "$$ diag(x) = \\boxplus_{i,j}\\  [i=j] \\cdot x_i $$"
   ]
  },
  {
   "cell_type": "markdown",
   "metadata": {},
   "source": [
    "# Tensor Language v.0"
   ]
  },
  {
   "cell_type": "code",
   "execution_count": 2,
   "metadata": {},
   "outputs": [],
   "source": [
    "T0 = ADT(\"\"\"\n",
    "module T0 {\n",
    "    expr = Var      ( string name, type? typ )\n",
    "         | Const    ( float  val  )\n",
    "         | Add      ( expr lhs, expr rhs )\n",
    "         | Mul      ( expr lhs, expr rhs )\n",
    "         | Pair     ( expr lhs, expr rhs )\n",
    "         | Proj     ( int01 idx, expr arg )\n",
    "         | Gen      ( string idxname, int range, expr body )\n",
    "         | Sum      ( string idxname, int range, expr body )\n",
    "         | Access   ( expr  base, index idx )\n",
    "         -- implied multiplication of the bracket with body\n",
    "         | Indicate ( pred  arg, expr body )\n",
    "         -- important to express sharing of computation results\n",
    "         | Let      ( string name, expr rhs, expr body )\n",
    "    \n",
    "    -- indices are drawn from a range s.t.\n",
    "    -- 0 <= i < range\n",
    "    \n",
    "    pred    = Eq( index lhs, index rhs )\n",
    "    \n",
    "    type    = TNum    ()\n",
    "            | TError  ()\n",
    "            | TPair   (  type lhs, type rhs )\n",
    "            | TTensor ( int range, type typ )\n",
    "}\n",
    "\"\"\", {\n",
    "    'int01': lambda x: x == 0 or x == 1,\n",
    "    'index': lambda x: (type(x) is int) or (type(x) is str),\n",
    "})\n",
    "ADTmemo(T0,['TNum','TError','TPair','TTensor'])\n",
    "T0.tnum = T0.TNum()\n",
    "T0.terr = T0.TError()\n"
   ]
  },
  {
   "cell_type": "markdown",
   "metadata": {},
   "source": [
    "Two issues confront us immediately.  We need to ensure that expressions are well-typed, and then secondly we'd like a more concise way to input/display expressions in this language.  For instance, consider the encoding of the earlier examples"
   ]
  },
  {
   "cell_type": "code",
   "execution_count": 3,
   "metadata": {},
   "outputs": [],
   "source": [
    "n = 100\n",
    "R = T0.tnum\n",
    "x = T0.Var('x',T0.TTensor(n,R))\n",
    "A = T0.Var('A',T0.TTensor(n, T0.TTensor(n,R) ))\n",
    "c = T0.Var('c',T0.TTensor(n,R))\n",
    "i = 'i'\n",
    "j = 'j'\n",
    "\n",
    "# matrix-vector \n",
    "y = T0.Gen( i,n,T0.Add(\n",
    "        T0.Access(c,i),\n",
    "        T0.Sum( j,n,T0.Mul( \n",
    "            T0.Access(T0.Access(A,i),j),\n",
    "            T0.Access(x,j)))))\n",
    "\n",
    "# matrix-trace\n",
    "tr = T0.Sum( i,n, T0.Access(T0.Access(A,i),i) )\n",
    "\n",
    "# diagonal matrix\n",
    "diag = T0.Gen( i,n,T0.Gen( j,n,\n",
    "            T0.Indicate(T0.Eq(i,j),\n",
    "                        T0.Access(x,i) )))"
   ]
  },
  {
   "cell_type": "markdown",
   "metadata": {},
   "source": [
    "### Typechecking"
   ]
  },
  {
   "cell_type": "markdown",
   "metadata": {},
   "source": [
    "Let's try to write a type-checking pass."
   ]
  },
  {
   "cell_type": "code",
   "execution_count": 4,
   "metadata": {},
   "outputs": [],
   "source": [
    "class _Context:\n",
    "    def __init__(self):\n",
    "        self._envs   = [{}]\n",
    "    def push(self):\n",
    "        self._envs.insert(0,{})\n",
    "    def pop(self):\n",
    "        self._envs.pop(0)\n",
    "    def set(self, nm, val):\n",
    "        self._envs[0][nm] = val\n",
    "    def get(self, nm):\n",
    "        for e in self._envs:\n",
    "            if nm in e:\n",
    "                return e[nm]\n",
    "        return None\n",
    "\n",
    "class TCError(Exception):\n",
    "    def __init(self, errs):\n",
    "        errmsg = (\"errors during typechecking:\\n\" +\n",
    "                  ('\\n'.join(errs)))\n",
    "        super(TCError, self).__init__(errmsg)\n",
    "        \n",
    "class TypeChecker:\n",
    "    def __init__(self, expr):\n",
    "        self._ctxt   = _Context()\n",
    "        #for nm,typ in initenv.items():\n",
    "        #    assert isinstance(typ, T0.type)\n",
    "        #    self._ctxt.set(nm,typ)\n",
    "        self._errors = []\n",
    "        self._typ    = self.check(expr)\n",
    "    \n",
    "    def _err(self, node, msg):\n",
    "        # might want to discern location\n",
    "        # via `node` eventually\n",
    "        self._errors.append(msg)\n",
    "    \n",
    "    def report_errors(self):\n",
    "        if len(self._errors) > 0:\n",
    "            raise TCError('Found errors during typechecking:\\n  '+\n",
    "                          '\\n  '.join(self._errors))\n",
    "    \n",
    "    def _get_ivar(self, node, name):\n",
    "        idxrange = self._ctxt.get(name)\n",
    "        if idxrange == None:\n",
    "            self._err(node, f\"index variable '{name}' was undefined\")\n",
    "        elif type(idxrange) is not int:\n",
    "            self._err(node, f\"variable '{name}' was \"\n",
    "                            f\"not bound as an index variable\")\n",
    "        else: return idxrange\n",
    "        # fail fall-through\n",
    "        return None\n",
    "    \n",
    "    def _get_var(self, node, name):\n",
    "        typ = self._ctxt.get(name)\n",
    "        if typ == None: return None\n",
    "        elif not isinstance(typ, T0.type):\n",
    "            self._err(node, f\"variable '{name}' was \"\n",
    "                            f\"not bound as a normal variable\")\n",
    "            return T.terr\n",
    "        # on success\n",
    "        return typ\n",
    "    \n",
    "    def check(self, node):\n",
    "        nclass = type(node)\n",
    "        if   nclass is T0.Var:\n",
    "            lookup = self._get_var(node, node.name)\n",
    "            if lookup == None and node.typ == None:\n",
    "                self._err(node, f\"expected free variable '{node.name}' \"\n",
    "                                f\"to have a type annotated.\")\n",
    "                return T0.terr\n",
    "            elif lookup == None:\n",
    "                return node.typ\n",
    "            elif node.type == None:\n",
    "                return lookup\n",
    "            elif lookup != node.typ:\n",
    "                self._err(node, f\"expected variable '{node.name}' \"\n",
    "                                f\"type annotation {node.typ} to \"\n",
    "                                f\"match bound variable type {lookup}\")\n",
    "                return T0.terr\n",
    "            else: # two mechanisms agree\n",
    "                return lookup\n",
    "\n",
    "        elif nclass is T0.Const:\n",
    "            return T0.tnum\n",
    "        \n",
    "        elif nclass is T0.Add or nclass is T0.Mul:\n",
    "            ltyp = self.check(node.lhs)\n",
    "            rtyp = self.check(node.rhs)\n",
    "            typ  = T0.tnum if (ltyp == T0.tnum and\n",
    "                               rtyp == T0.tnum) else T0.terr\n",
    "            if ltyp != T0.tnum and ltyp != T0.terr:\n",
    "                self._err(node,\n",
    "                          f\"expected number on left-hand-side \"\n",
    "                          f\"of addition: {node}\")\n",
    "            if rtyp != T0.tnum and rtyp != T0.terr:\n",
    "                self._err(node,\n",
    "                          f\"expected number on right-hand-side \"\n",
    "                          f\"of addition: {node}\")\n",
    "            return typ\n",
    "        \n",
    "        elif nclass is T0.Pair:\n",
    "            ltyp = self.check(node.lhs)\n",
    "            rtyp = self.check(node.rhs)\n",
    "            if ltyp == T0.terr or rtyp == T0.terr:\n",
    "                return T0.terr\n",
    "            else:\n",
    "                return T0.TPair(ltyp,rtyp)\n",
    "        \n",
    "        elif nclass is T0.Proj:\n",
    "            subtyp = self.check(node.arg)\n",
    "            if subtyp == T0.terr: return T0.terr\n",
    "            elif type(subtyp) is not T.TPair:\n",
    "                self._err(node, f\"Was expecting a pair as argument: {node}\")\n",
    "                return T0.terr\n",
    "            elif node.idx == 0:   return subtyp.lhs\n",
    "            else:                 return subtyp.rhs\n",
    "        \n",
    "        elif nclass is T0.Gen or nclass is T0.Sum:\n",
    "            self._ctxt.push()\n",
    "            self._ctxt.set(node.idxname, node.range)\n",
    "            bodytyp = self.check(node.body)\n",
    "            self._ctxt.pop()\n",
    "            if   bodytyp == T0.terr: return T0.terr\n",
    "            elif nclass is T0.Sum:\n",
    "                if bodytyp == T0.tnum: return T0.tnum\n",
    "                # otherwise\n",
    "                self._err(node, f\"Was expecting a number as argument: {node}\")\n",
    "                return T0.terr\n",
    "            else: # nclass is T0.Gen\n",
    "                return T0.TTensor(node.range, bodytyp)\n",
    "        \n",
    "        elif nclass is T0.Access:\n",
    "            basetyp  = self.check(node.base)\n",
    "            if basetyp == T0.terr: return T0.terr\n",
    "            if not isinstance(basetyp,T0.TTensor):\n",
    "                self._err(node, f\"Was expecting a tensor to index: {node}\")\n",
    "                return T0.terr\n",
    "            idxrange = self._get_ivar(node, node.idx)\n",
    "            if idxrange == None: return T0.terr\n",
    "            if idxrange != basetyp.range:\n",
    "                self._err(node, f\"index variable '{node.idx}' was bound \"\n",
    "                                f\"to the range {idxrange}, but this tensor \"\n",
    "                                f\"expects an index of range {basetyp.range}\")\n",
    "                return T0.terr\n",
    "            # if reaching here, all checks passed\n",
    "            # we can return the (accessed) de-tensor-ed type\n",
    "            return basetyp.typ\n",
    "        \n",
    "        elif nclass is T0.Indicate:\n",
    "            # need to check the predicate\n",
    "            eqnode  = node.arg\n",
    "            lrange  = self._get_ivar(node, eqnode.lhs)\n",
    "            rrange  = self._get_ivar(node, eqnode.rhs)\n",
    "            bodytyp = self.check(node.body)\n",
    "            \n",
    "            if lrange == None or rrange == None: pass\n",
    "            elif lrange != rrange:\n",
    "                self._err(node, f\"index variables \"\n",
    "                                f\"'{eqnode.lhs}' and '{eqnode.rhs}' \"\n",
    "                                f\"in equality are drawn from different\"\n",
    "                                f\"ranges: {lrange} and {rrange}\")\n",
    "            # can proceed to type-check regardless of errors\n",
    "            # if we at least have the type of the body\n",
    "            return bodytyp\n",
    "        \n",
    "        elif nclass is T0.Let:\n",
    "            rtyp    = self.check(node.rhs)\n",
    "            self._ctxt.push()\n",
    "            self._ctxt.set(node.name, rtyp)\n",
    "            bodytyp = self.check(node.body)\n",
    "            self._ctxt.pop()\n",
    "            return bodytyp\n",
    "        \n",
    "        else:\n",
    "            assert false, \"Unexpected expression class for {node}\"\n",
    "            "
   ]
  },
  {
   "cell_type": "code",
   "execution_count": 5,
   "metadata": {},
   "outputs": [],
   "source": [
    "TypeChecker(y).report_errors()"
   ]
  },
  {
   "cell_type": "markdown",
   "metadata": {},
   "source": [
    "### Input Syntax Sugar"
   ]
  },
  {
   "cell_type": "markdown",
   "metadata": {},
   "source": [
    "Typechecking succeeded.  As a next step, let's look at building in some additional help for constructing the IR objects.  For instance, we ought to be able to take two nodes `a` and `b` and write `a + b` to get `T0.Add(a,b)`.  Likewise for multiplication.\n",
    "\n",
    "In fact we can do that by overloading the `__add__` and `__mul__` methods of the class.  We can actually do this for all expressions at once, making the matter a bit simpler.\n",
    "\n",
    "We would also like to promote literals up to constants in the IR when appropriate.  With a very little bit of extra work, we can do this too."
   ]
  },
  {
   "cell_type": "code",
   "execution_count": 6,
   "metadata": {},
   "outputs": [],
   "source": [
    "def _T0_expr_add_(lhs,rhs):\n",
    "    if type(rhs) == int or type(rhs) == float:\n",
    "        return T0.Add(lhs, T0.Const(float(rhs)))\n",
    "    elif isinstance(rhs,T0.expr):\n",
    "        return T0.Add(lhs,rhs)\n",
    "    else:\n",
    "        return NotImplemented\n",
    "T0.expr.__add__ = _T0_expr_add_\n",
    "\n",
    "def _T0_expr_radd_(rhs,lhs):\n",
    "    if type(lhs) == int or type(lhs) == float:\n",
    "        return T0.Add(T0.Const(float(lhs)), rhs)\n",
    "    else:\n",
    "        return NotImplemented\n",
    "T0.expr.__radd__ = _T0_expr_radd_\n",
    "    \n",
    "\n",
    "def _T0_expr_mul_(lhs,rhs):\n",
    "    if type(rhs) == int or type(rhs) == float:\n",
    "        return T0.Mul(lhs, T0.Const(float(rhs)))\n",
    "    elif isinstance(rhs,T0.expr):\n",
    "        return T0.Mul(lhs,rhs)\n",
    "    else:\n",
    "        return NotImplemented\n",
    "T0.expr.__mul__ = _T0_expr_mul_\n",
    "\n",
    "def _T0_expr_rmul_(rhs,lhs):\n",
    "    if type(lhs) == int or type(lhs) == float:\n",
    "        return T0.Mul(T0.Const(float(lhs)), rhs)\n",
    "    else:\n",
    "        return NotImplemented\n",
    "T0.expr.__rmul__ = _T0_expr_rmul_"
   ]
  },
  {
   "cell_type": "code",
   "execution_count": 7,
   "metadata": {
    "scrolled": true
   },
   "outputs": [
    {
     "name": "stdout",
     "output_type": "stream",
     "text": [
      "Mul(lhs=Var(name=x,typ=TTensor(range=100,typ=TNum())),rhs=Var(name=x,typ=TTensor(range=100,typ=TNum())))\n",
      "Add(lhs=Var(name=x,typ=TTensor(range=100,typ=TNum())),rhs=Var(name=x,typ=TTensor(range=100,typ=TNum())))\n",
      "Add(lhs=Var(name=x,typ=TTensor(range=100,typ=TNum())),rhs=Const(val=4.0))\n",
      "Add(lhs=Const(val=4.0),rhs=Var(name=x,typ=TTensor(range=100,typ=TNum())))\n",
      "Mul(lhs=Var(name=x,typ=TTensor(range=100,typ=TNum())),rhs=Const(val=4.0))\n",
      "Mul(lhs=Const(val=4.0),rhs=Var(name=x,typ=TTensor(range=100,typ=TNum())))\n"
     ]
    }
   ],
   "source": [
    "print(x * x)\n",
    "print(x + x)\n",
    "print(x + 4)\n",
    "print(4 + x)\n",
    "print(x * 4)\n",
    "print(4 * x)"
   ]
  },
  {
   "cell_type": "markdown",
   "metadata": {},
   "source": [
    "A bit more cleverness will let us avoid any odd syntax for the Iverson-bracket/indicator-function.  Simply, if we define multiplication for the type _pred_, then we can multiply those terms with expressions to implicitly form indicators."
   ]
  },
  {
   "cell_type": "code",
   "execution_count": 8,
   "metadata": {},
   "outputs": [],
   "source": [
    "def _T0_pred_mul_(lhs,rhs):\n",
    "    if type(rhs) == int or type(rhs) == float:\n",
    "        return T0.Indicate(lhs, T0.Const(float(rhs)))\n",
    "    elif isinstance(rhs,T0.expr):\n",
    "        return T0.Indicate(lhs,rhs)\n",
    "    else:\n",
    "        return NotImplemented\n",
    "T0.pred.__mul__ = _T0_pred_mul_\n",
    "\n",
    "def _T0_pred_rmul_(rhs,lhs):\n",
    "    if type(lhs) == int or type(lhs) == float:\n",
    "        return T0.Indicate(rhs, T0.Const(float(lhs)))\n",
    "    elif isinstance(lhs,T0.expr):\n",
    "        return T0.Indicate(rhs,lhs)\n",
    "    else:\n",
    "        return NotImplemented\n",
    "T0.pred.__rmul__ = _T0_pred_rmul_"
   ]
  },
  {
   "cell_type": "code",
   "execution_count": 9,
   "metadata": {},
   "outputs": [
    {
     "name": "stdout",
     "output_type": "stream",
     "text": [
      "Indicate(arg=Eq(lhs=i,rhs=1),body=Var(name=x,typ=TTensor(range=100,typ=TNum())))\n",
      "Indicate(arg=Eq(lhs=i,rhs=1),body=Var(name=x,typ=TTensor(range=100,typ=TNum())))\n",
      "Indicate(arg=Eq(lhs=i,rhs=1),body=Const(val=2.0))\n",
      "Indicate(arg=Eq(lhs=i,rhs=1),body=Const(val=2.0))\n"
     ]
    }
   ],
   "source": [
    "i1 = T0.Eq('i',1)\n",
    "print(i1 * x)\n",
    "print(x * i1)\n",
    "print(i1 * 2)\n",
    "print(2 * i1)"
   ]
  },
  {
   "cell_type": "markdown",
   "metadata": {},
   "source": [
    "Finally, we can exploit array indexing syntax to make it more concise to index tensors."
   ]
  },
  {
   "cell_type": "code",
   "execution_count": 10,
   "metadata": {},
   "outputs": [],
   "source": [
    "def _T0_expr_getitem_(expr,key):\n",
    "    if not type(key) is tuple: key = (key,)\n",
    "    # iterate over the key-tuple and glom on accesses\n",
    "    for i in key:\n",
    "        if type(i) == int or type(i) == str:\n",
    "            expr = T0.Access(expr,i)\n",
    "        else:\n",
    "            raise TypeError(f\"expected int or string in tensor index: {i}\")\n",
    "    return expr\n",
    "T0.expr.__getitem__ = _T0_expr_getitem_"
   ]
  },
  {
   "cell_type": "code",
   "execution_count": 11,
   "metadata": {},
   "outputs": [
    {
     "name": "stdout",
     "output_type": "stream",
     "text": [
      "Access(base=Var(name=x,typ=TTensor(range=100,typ=TNum())),idx=1)\n",
      "Access(base=Var(name=x,typ=TTensor(range=100,typ=TNum())),idx=i)\n"
     ]
    }
   ],
   "source": [
    "print(x[1])\n",
    "print(x['i'])"
   ]
  },
  {
   "cell_type": "markdown",
   "metadata": {},
   "source": [
    "With this bag of tricks, let's rewrite the examples from before that we were playing with.\n",
    "\n",
    "Notice that not only are the expressions more concise, we've also made the construction code significantly easier to read thanks to normal arithmetic and indexing expressions.\n",
    "\n",
    "We can certainly get more sophisticated by introducing overloading tricks for the types.  However, doing so can be tricky because which benefits we see will change.  Often doing this will make the code more concise.  However, there is little reason to believe that programmers will see the resulting code as \"normal.\"  Most importantly, since this is just a sketch, a minimal amount of niceness to keep ourselves sane will suffice."
   ]
  },
  {
   "cell_type": "code",
   "execution_count": 12,
   "metadata": {},
   "outputs": [
    {
     "name": "stdout",
     "output_type": "stream",
     "text": [
      "Gen(idxname=i,range=100,body=Add(lhs=Access(base=Var(name=c,typ=TTensor(range=100,typ=TNum())),idx=i),rhs=Sum(idxname=j,range=100,body=Mul(lhs=Access(base=Access(base=Var(name=A,typ=TTensor(range=100,typ=TTensor(range=100,typ=TNum()))),idx=i),idx=j),rhs=Access(base=Var(name=x,typ=TTensor(range=100,typ=TNum())),idx=j)))))\n",
      "Sum(idxname=i,range=100,body=Access(base=Access(base=Var(name=A,typ=TTensor(range=100,typ=TTensor(range=100,typ=TNum()))),idx=i),idx=i))\n",
      "Gen(idxname=i,range=100,body=Gen(idxname=j,range=100,body=Indicate(arg=Eq(lhs=i,rhs=j),body=Access(base=Var(name=x,typ=TTensor(range=100,typ=TNum())),idx=i))))\n"
     ]
    }
   ],
   "source": [
    "n = 100\n",
    "R = T0.tnum\n",
    "x = T0.Var('x',T0.TTensor(n,R))\n",
    "A = T0.Var('A',T0.TTensor(n, T0.TTensor(n,R) ))\n",
    "c = T0.Var('c',T0.TTensor(n,R))\n",
    "i = 'i'\n",
    "j = 'j'\n",
    "\n",
    "# matrix-vector \n",
    "y = T0.Gen(i,n, c[i] + T0.Sum(j,n, A[i,j] * x[j] ))\n",
    "# old version for comparison\n",
    "# y = T0.Gen( i,n,T0.Add(\n",
    "#     T0.Access(c,i),\n",
    "#       T0.Sum( j,n,T0.Mul( \n",
    "#           T0.Access(T0.Access(A,i),j),\n",
    "#           T0.Access(x,j)))))\n",
    "\n",
    "# matrix-trace\n",
    "tr = T0.Sum(i,n, A[i,i])\n",
    "# old version for comparison\n",
    "# tr = T0.Sum( i,n, T0.Access(T0.Access(A,i),i) )\n",
    "\n",
    "# diagonal matrix\n",
    "diag = T0.Gen(i,n,T0.Gen(j,n, T0.Eq(i,j) * x[i] ))\n",
    "# old version for comparison\n",
    "# diag = T0.Gen( i,n,T0.Gen( j,n,\n",
    "#           T0.Indicate(T0.Eq(i,j),\n",
    "#                       T0.Access(x,i) )))\n",
    "print(y)\n",
    "print(tr)\n",
    "print(diag)"
   ]
  },
  {
   "cell_type": "markdown",
   "metadata": {},
   "source": [
    "### Output / Display Formats"
   ]
  },
  {
   "cell_type": "markdown",
   "metadata": {},
   "source": [
    "Consider our original grammar sketch.  Wouldn't it be nice if we could display tensor expressions in a manner closer to this?\n",
    "\n",
    "$$\n",
    "\\newcommand{\\or}{\\ |\\ }\n",
    "\\begin{array}{rl}\n",
    "  e &= x \\or c \\or e_0 + e_1 \\or e_0 \\cdot e_1 \\\\\n",
    "  &\\or \\sum_i e \\or \\boxplus_i e \\or e_i \\or [i=j] \\\\\n",
    "  &\\or (e_0,e_1) \\or \\pi_0 e \\or \\pi_1 e \\\\\n",
    "\\end{array}\n",
    "$$\n",
    "\n",
    "Additionally, we'd like a simple plain-text approximation of the above.  Along those lines, consider the following translation:\n",
    "\n",
    "$$\n",
    "\\begin{array}{r|r|l}\n",
    "6 & x & \\texttt{x}\\\\\n",
    "  & c & \\texttt{c} \\\\\n",
    "  \\hline\n",
    "5 & e[i] & \\texttt{e[i]} \\\\\n",
    "  \\hline\n",
    "4 & \\pi_0 e & \\texttt{e.0} \\\\\n",
    "  & \\pi_1 e & \\texttt{e.1} \\\\\n",
    "  \\hline\n",
    "3 & a \\cdot b & \\texttt{a * b} \\\\\n",
    "  & [i=j]\\cdot e & \\texttt{[i=j]*e} \\\\\n",
    "  \\hline\n",
    "2 & a + b & \\texttt{a + b} \\\\\n",
    "  \\hline\n",
    "1 & \\sum_{i:n}\\ e & \\texttt{+(i:n) e} \\\\\n",
    "  & \\boxplus_{i:n}\\ e & \\texttt{Gen(i:n) e} \\\\\n",
    "  \\hline\n",
    "0 & (a,b) & \\texttt{(a,b)} \\\\\n",
    "\\end{array}\n",
    "$$\n",
    "\n",
    "The various forms are arranged in a precedence order.  The exception is the pair construction, which behaves as if it was a maximum precedence operator when acting as a sub-expression, but also behaves as a minimum precedence operator when enclosing sub-expressions itself.\n",
    "\n",
    "We will suppress type-annotations but preserve range annotations on $\\sum$ and $\\boxplus$."
   ]
  },
  {
   "cell_type": "code",
   "execution_count": 13,
   "metadata": {},
   "outputs": [],
   "source": [
    "def T0_str_rep(e,prec=0):\n",
    "    eclass = type(e)\n",
    "    s      = \"ERROR\"\n",
    "    if   eclass is T0.Var:\n",
    "        s = e.name\n",
    "    elif eclass is T0.Const:\n",
    "        s = str(e.val)\n",
    "    elif eclass is T0.Add:\n",
    "        s = f\"{T0_str_rep(e.lhs,2)} + {T0_str_rep(e.rhs,2)}\"\n",
    "        if prec > 2: s = f\"({s})\"\n",
    "    elif eclass is T0.Mul:\n",
    "        s = f\"{T0_str_rep(e.lhs,3)} * {T0_str_rep(e.rhs,3)}\"\n",
    "        if prec > 3: s = f\"({s})\"\n",
    "    elif eclass is T0.Pair:\n",
    "        s = f\"({T0_str_rep(e.lhs,0)},{T0_str_rep(e.rhs,0)})\"\n",
    "    elif eclass is T0.Proj:\n",
    "        s = f\"{T0_str_rep(e.arg,4)}.{e.idx}\"\n",
    "        if prec > 4: s = f\"({s})\"\n",
    "    elif eclass is T0.Gen or eclass is T0.Sum:\n",
    "        op = \"+\" if eclass is T0.Sum else \"Gen\"\n",
    "        s = f\"{op}({e.idxname}:{e.range}) {T0_str_rep(e.body,1)}\"\n",
    "        if prec > 1: s = f\"({s})\"\n",
    "    elif eclass is T0.Access:\n",
    "        s = f\"{T0_str_rep(e.base,5)}[{e.idx}]\"\n",
    "        if prec > 5: s = f\"({s})\"\n",
    "    elif eclass is T0.Indicate:\n",
    "        assert isinstance(e.arg, T0.Eq), 'sanity: pred is Eq'\n",
    "        s = f\"[{e.arg.lhs}={e.arg.rhs}]*{T0_str_rep(e.body,3)}\"\n",
    "        if prec > 3: s = f\"({s})\"\n",
    "    elif eclass is T0.Let:\n",
    "        # note that this is ill-behaved formatting\n",
    "        # for lets nested inside of expressions\n",
    "        s = f\"let {e.name} = {T0_str_rep(e.rhs,0)} in\\n{T0_str_rep(e.body,0)}\"\n",
    "        if prec > 0: s = f\"({s})\"\n",
    "    return s\n",
    "\n",
    "T0.expr.__str__ = T0_str_rep"
   ]
  },
  {
   "cell_type": "code",
   "execution_count": 14,
   "metadata": {},
   "outputs": [
    {
     "name": "stdout",
     "output_type": "stream",
     "text": [
      "Gen(i:100) c[i] + (+(j:100) A[i][j] * x[j])\n",
      "+(i:100) A[i][i]\n",
      "Gen(i:100) Gen(j:100) [i=j]*x[i]\n"
     ]
    }
   ],
   "source": [
    "print(y)\n",
    "print(tr)\n",
    "print(diag)"
   ]
  },
  {
   "cell_type": "markdown",
   "metadata": {},
   "source": [
    "Likewise, with latex for the notebook..."
   ]
  },
  {
   "cell_type": "code",
   "execution_count": 15,
   "metadata": {},
   "outputs": [],
   "source": [
    "def T0_latex_str(e,prec=0):\n",
    "    eclass = type(e)\n",
    "    s      = \"ERROR\"\n",
    "    if   eclass is T0.Var:\n",
    "        s = e.name\n",
    "    elif eclass is T0.Const:\n",
    "        s = str(e.val)\n",
    "    elif eclass is T0.Add:\n",
    "        s = f\"{T0_latex_str(e.lhs,2)} + {T0_latex_str(e.rhs,2)}\"\n",
    "        if prec > 2: s = f\"\\\\left({s}\\\\right)\"\n",
    "    elif eclass is T0.Mul:\n",
    "        s = f\"{T0_latex_str(e.lhs,3)} \\\\cdot {T0_latex_str(e.rhs,3)}\"\n",
    "        if prec > 3: s = f\"\\\\left({s}\\\\right)\"\n",
    "    elif eclass is T0.Pair:\n",
    "        s = f\"\\\\left({T0_latex_str(e.lhs,0)},{T0_latex_str(e.rhs,0)}\\\\right)\"\n",
    "    elif eclass is T0.Proj:\n",
    "        s = f\"\\\\pi_{{{e.idx}}} {T0_latex_str(e.arg,4)}\"\n",
    "        if prec > 4: s = f\"\\\\left({s}\\\\right)\"\n",
    "    elif eclass is T0.Gen or eclass is T0.Sum:\n",
    "        op = \"\\\\sum\" if eclass is T0.Sum else \"\\\\boxplus\"\n",
    "        s = f\"{op}_{{{e.idxname}:{e.range}}}\\\\ {T0_latex_str(e.body,1)}\"\n",
    "        if prec > 1: s = f\"\\\\left({s}\\\\right)\"\n",
    "    elif eclass is T0.Access:\n",
    "        s = f\"{T0_latex_str(e.base,5)}[{e.idx}]\"\n",
    "        if prec > 5: s = f\"\\\\left({s}\\\\right)\"\n",
    "    elif eclass is T0.Indicate:\n",
    "        assert isinstance(e.arg, T0.Eq), 'sanity: pred is Eq'\n",
    "        s = f\"[{e.arg.lhs}={e.arg.rhs}]\\\\cdot {T0_latex_str(e.body,3)}\"\n",
    "        if prec > 3: s = f\"\\\\left({s}\\\\right)\"\n",
    "    elif eclass is T0.Let:\n",
    "        # note that this is ill-behaved formatting\n",
    "        # for lets nested inside of expressions\n",
    "        s = (f\"\\\\begin{{array}}{{l}}\"\n",
    "             f\" \\\\textrm{{let }} {e.name} = {T0_latex_str(e.rhs,0)}\\\\textrm{{ in}}\\\\\\\\\"\n",
    "             f\" {T0_latex_str(e.body,0)}\"\n",
    "             f\"\\\\end{{array}}\")\n",
    "        if prec > 0: s = f\"\\\\left({s}\\\\right)\"\n",
    "    return s\n",
    "\n",
    "def T0_latex_repr(e):\n",
    "    return f\"${T0_latex_str(e)}$\"\n",
    "\n",
    "T0.expr._repr_latex_ = T0_latex_repr"
   ]
  },
  {
   "cell_type": "code",
   "execution_count": 16,
   "metadata": {},
   "outputs": [
    {
     "data": {
      "text/latex": [
       "$\\boxplus_{i:100}\\ c[i] + \\left(\\sum_{j:100}\\ A[i][j] \\cdot x[j]\\right)$"
      ],
      "text/plain": [
       "Gen(idxname=i,range=100,body=c[i] + (+(j:100) A[i][j] * x[j]))"
      ]
     },
     "execution_count": 16,
     "metadata": {},
     "output_type": "execute_result"
    }
   ],
   "source": [
    "y"
   ]
  },
  {
   "cell_type": "code",
   "execution_count": 17,
   "metadata": {},
   "outputs": [
    {
     "data": {
      "text/latex": [
       "$\\sum_{i:100}\\ A[i][i]$"
      ],
      "text/plain": [
       "Sum(idxname=i,range=100,body=A[i][i])"
      ]
     },
     "execution_count": 17,
     "metadata": {},
     "output_type": "execute_result"
    }
   ],
   "source": [
    "tr"
   ]
  },
  {
   "cell_type": "code",
   "execution_count": 18,
   "metadata": {
    "scrolled": false
   },
   "outputs": [
    {
     "data": {
      "text/latex": [
       "$\\boxplus_{i:100}\\ \\boxplus_{j:100}\\ [i=j]\\cdot x[i]$"
      ],
      "text/plain": [
       "Gen(idxname=i,range=100,body=Gen(j:100) [i=j]*x[i])"
      ]
     },
     "execution_count": 18,
     "metadata": {},
     "output_type": "execute_result"
    }
   ],
   "source": [
    "diag"
   ]
  },
  {
   "cell_type": "markdown",
   "metadata": {},
   "source": [
    "## Execution Semantics (via interpretation)"
   ]
  },
  {
   "cell_type": "markdown",
   "metadata": {},
   "source": [
    "First, let's develop a way to check whether a Python object/value inhabits a given type in our language.  We'll need this check to make sure that inputs to execution are not going to cause problems."
   ]
  },
  {
   "cell_type": "code",
   "execution_count": 20,
   "metadata": {},
   "outputs": [],
   "source": [
    "def T0_check_value(typ, val):\n",
    "    assert typ != T0.terr, \"No values of type TErr\"\n",
    "    if typ == T0.tnum:\n",
    "        if type(val) is not float:\n",
    "            raise TypeError(\"Expected floating point value\")\n",
    "    elif isinstance(typ, T0.TPair):\n",
    "        if type(val) is not tuple or len(val) != 2:\n",
    "            raise TypeError(\"Expected pair value\")\n",
    "        L,R = val\n",
    "        T0_check_value(typ.lhs, L)\n",
    "        T0_check_value(typ.rhs, R)\n",
    "    elif isinstance(typ, T0.TTensor):\n",
    "        if type(val) is not list:\n",
    "            raise TypeError(\"Expected list value\")\n",
    "        elif len(val) != typ.range:\n",
    "            raise TypeError(f\"Expected list of {typ.range} \"\n",
    "                            f\"entries, but got {len(val)} entries\")\n",
    "        for i in range(typ.range):\n",
    "            T0_check_value(typ.typ, val[i])\n",
    "    else:\n",
    "        assert False, f\"{typ} should be a tensor-language type\"\n"
   ]
  },
  {
   "cell_type": "code",
   "execution_count": 21,
   "metadata": {
    "scrolled": false
   },
   "outputs": [
    {
     "name": "stdout",
     "output_type": "stream",
     "text": [
      "TNum()\n",
      "TTensor(range=2,typ=TNum())\n",
      "TTensor(range=3,typ=TTensor(range=2,typ=TNum()))\n"
     ]
    }
   ],
   "source": [
    "xv = [4.,7.]\n",
    "Av = [[5.,2.],[2.2,4.5],[6.1,3.3]]\n",
    "vec2f = T0.TTensor(2,T0.tnum)\n",
    "mat32f = T0.TTensor(3,T0.TTensor(2,T0.tnum))\n",
    "R = T0.tnum\n",
    "T0_check_value(R,3.2)\n",
    "T0_check_value(vec2f,xv)\n",
    "T0_check_value(mat32f,Av)"
   ]
  },
  {
   "cell_type": "markdown",
   "metadata": {},
   "source": [
    "Given an environment binding names to typed values, we want to have a way to evaluate a tensor expression in that environment.  That is what we'll call the interpreter."
   ]
  },
  {
   "cell_type": "code",
   "execution_count": 22,
   "metadata": {},
   "outputs": [],
   "source": [
    "class Interpreter():\n",
    "    def __init__(self,env):\n",
    "        self._init_vals = {}\n",
    "        for name in env:\n",
    "            val = env[name]\n",
    "            self._init_vals[name] = val\n",
    "    \n",
    "    def run(self,e):\n",
    "        self._vals = _Context()\n",
    "        for nm,v in self._init_vals.items():\n",
    "            self._vals.set(nm,v)\n",
    "        return self._exec(e)\n",
    "    \n",
    "    def _get_val(self,nm):\n",
    "        v = self._vals.get(nm)\n",
    "        if v is None: raise KeyError(f\"Did not find variable '{nm}'\")\n",
    "        return v\n",
    "    \n",
    "    def _get_ival(self,idx):\n",
    "        if type(idx) is int: return idx\n",
    "        else: return self._get_val(idx)\n",
    "    \n",
    "    def _exec(self,e):\n",
    "        eclass = type(e)\n",
    "        if   eclass is T0.Var:\n",
    "            return self._get_val(e.name)\n",
    "        \n",
    "        elif eclass is T0.Const:\n",
    "            return e.val\n",
    "        \n",
    "        elif eclass is T0.Add:\n",
    "            return self._exec(e.lhs) + self._exec(e.rhs)\n",
    "        \n",
    "        elif eclass is T0.Mul:\n",
    "            return self._exec(e.lhs) * self._exec(e.rhs)\n",
    "        \n",
    "        elif eclass is T0.Pair:\n",
    "            return ( self._exec(e.lhs), self._exec(e.rhs) )\n",
    "        \n",
    "        elif eclass is T0.Proj:\n",
    "            return self._exec(e.arg)[e.idx]\n",
    "        \n",
    "        elif eclass is T0.Gen:\n",
    "            xs = []\n",
    "            self._vals.push()\n",
    "            for i in range(e.range):\n",
    "                self._vals.set(e.idxname,i)\n",
    "                xs.append( self._exec(e.body) )\n",
    "            self._vals.pop()\n",
    "            return xs\n",
    "        \n",
    "        elif eclass is T0.Sum:\n",
    "            acc = 0.0\n",
    "            self._vals.push()\n",
    "            for i in range(e.range):\n",
    "                self._vals.set(e.idxname,i)\n",
    "                acc += self._exec(e.body)\n",
    "            self._vals.pop()\n",
    "            return acc\n",
    "        \n",
    "        elif eclass is T0.Access:\n",
    "            base = self._exec(e.base)\n",
    "            i = self._get_ival(e.idx)\n",
    "            return base[i]\n",
    "        \n",
    "        elif eclass is T0.Indicate:\n",
    "            assert type(e.arg) is T0.Eq, 'expect only Eq pred'\n",
    "            i = self._get_ival(e.arg.lhs)\n",
    "            j = self._get_ival(e.arg.rhs)\n",
    "            if i == j:\n",
    "                return self._exec(e.body)\n",
    "            else:\n",
    "                return 0.0\n",
    "        \n",
    "        elif eclass is T0.Let:\n",
    "            rval = self._exec(e.rhs)\n",
    "            self._vals.push()\n",
    "            self._vals.set(e.name,rval)\n",
    "            body = self._exec(e.body)\n",
    "            self._vals.pop()\n",
    "            return body\n",
    "        \n",
    "        else:\n",
    "            assert False, \"Unexpected Exec Case\"\n"
   ]
  },
  {
   "cell_type": "code",
   "execution_count": 23,
   "metadata": {},
   "outputs": [
    {
     "name": "stdout",
     "output_type": "stream",
     "text": [
      "[34.0, 13.3, 46.99999999999999]\n",
      "8.3\n",
      "[[4.0, 0.0, 0.0], [0.0, 7.0, 0.0], [0.0, 0.0, 1.0]]\n"
     ]
    }
   ],
   "source": [
    "xv = [4.,7.,1.]\n",
    "Av = [[5.,2.,0.],[2.2,0.,4.5],[0.,6.1,3.3]]\n",
    "cv = [0.,0.,1.]\n",
    "n = 3\n",
    "R = T0.tnum\n",
    "x = T0.Var('x',T0.TTensor(n,R))\n",
    "A = T0.Var('A',T0.TTensor(n, T0.TTensor(n,R) ))\n",
    "c = T0.Var('c',T0.TTensor(n,R))\n",
    "i = 'i'\n",
    "j = 'j'\n",
    "\n",
    "y = T0.Gen(i,n, c[i] + T0.Sum(j,n, A[i,j] * x[j] ))\n",
    "tr = T0.Sum(i,n, A[i,i])\n",
    "diag = T0.Gen(i,n,T0.Gen(j,n, T0.Eq(i,j) * x[i] ))\n",
    "\n",
    "TypeChecker(y).report_errors()\n",
    "TypeChecker(tr).report_errors()\n",
    "TypeChecker(diag).report_errors()\n",
    "\n",
    "y_out = Interpreter({'A':Av,'x':xv,'c':cv}).run(y)\n",
    "tr_out = Interpreter({'A':Av,'x':xv,'c':cv}).run(tr)\n",
    "diag_out = Interpreter({'A':Av,'x':xv,'c':cv}).run(diag)\n",
    "\n",
    "print(y_out)\n",
    "print(tr_out)\n",
    "print(diag_out)"
   ]
  },
  {
   "cell_type": "markdown",
   "metadata": {},
   "source": [
    "## Putting it Together (Functions)\n",
    "\n",
    "At this point, we have all of the components we need to package up an expression in the tensor language into a function.  We can have this packaging perform type-checking in a reliable way.  However, because of a strange choice about typing free-variables using explicit annotations, we need to additionally have a way to extract free variables (with types) from an expression.  Given that we should be good to proceed"
   ]
  },
  {
   "cell_type": "code",
   "execution_count": 29,
   "metadata": {},
   "outputs": [],
   "source": [
    "class FreeVarAnalysis():\n",
    "    def __init__(self,e):\n",
    "        self._env  = _Context()\n",
    "        self._free = {}\n",
    "        self._do(e)\n",
    "    \n",
    "    def vars(self):\n",
    "        return self._free.copy()\n",
    "    \n",
    "    def _do(self,e):\n",
    "        eclass = type(e)\n",
    "        if   eclass is T0.Var:\n",
    "            # if this variable is free...\n",
    "            if self._env.get(e.name) is None:\n",
    "                assert e.typ, \"free variable must have type\"\n",
    "                lookupT = self._free.get(e.name)\n",
    "                if lookupT is None:\n",
    "                    self._free[e.name] = e.typ\n",
    "                elif lookupT != e.typ:\n",
    "                    raise TypeError(f\"free variable '{e.name}' \"\n",
    "                                    f\"was inconsistently typed\")\n",
    "        \n",
    "        elif eclass is T0.Const: pass\n",
    "        \n",
    "        elif eclass is T0.Add or eclass is T0.Mul or eclass is T0.Pair:\n",
    "            self._do(e.lhs)\n",
    "            self._do(e.rhs)\n",
    "        \n",
    "        elif eclass is T0.Proj:\n",
    "            self._do(e.arg)\n",
    "        \n",
    "        elif eclass is T0.Gen or eclass is T0.Sum:\n",
    "            self._env.push()\n",
    "            self._env.set(e.idxname,True)\n",
    "            self._do(e.body)\n",
    "            self._env.pop()\n",
    "        \n",
    "        elif eclass is T0.Access:\n",
    "            self._do(e.base)\n",
    "        \n",
    "        elif eclass is T0.Indicate:\n",
    "            self._do(e.body)\n",
    "        \n",
    "        elif eclass is T0.Let:\n",
    "            self._do(e.rhs)\n",
    "            self._env.push()\n",
    "            self._env.set(e.name,True)\n",
    "            self._do(e.body)\n",
    "            self._env.pop()\n",
    "        \n",
    "        else:\n",
    "            assert False, \"Unexpected expr Case\"\n"
   ]
  },
  {
   "cell_type": "code",
   "execution_count": 31,
   "metadata": {},
   "outputs": [
    {
     "name": "stdout",
     "output_type": "stream",
     "text": [
      "{'c': TTensor(range=3,typ=TNum()), 'A': TTensor(range=3,typ=TTensor(range=3,typ=TNum())), 'x': TTensor(range=3,typ=TNum())}\n",
      "{'A': TTensor(range=3,typ=TTensor(range=3,typ=TNum()))}\n",
      "{'x': TTensor(range=3,typ=TNum())}\n"
     ]
    }
   ],
   "source": [
    "print(FreeVarAnalysis(y).vars())\n",
    "print(FreeVarAnalysis(tr).vars())\n",
    "print(FreeVarAnalysis(diag).vars())"
   ]
  },
  {
   "cell_type": "markdown",
   "metadata": {},
   "source": [
    "Now to get back to packaging this up."
   ]
  },
  {
   "cell_type": "code",
   "execution_count": 33,
   "metadata": {},
   "outputs": [],
   "source": [
    "class FuncT0():\n",
    "    def __init__(self,expr):\n",
    "        self._expr = expr\n",
    "        # run basic type-checking\n",
    "        TypeChecker(expr).report_errors()\n",
    "        # and get the free variables\n",
    "        self._free = FreeVarAnalysis(expr).vars()\n",
    "        \n",
    "    def __call__(self, *args, **kwargs):\n",
    "        if len(args) > 0:\n",
    "            raise TypeError(\"Tensor functions must be called with named arguments\")\n",
    "        # check that every kwarg is present in free\n",
    "        for nm in kwargs:\n",
    "            if not self._free.get(nm):\n",
    "                raise TypeError(f\"argument '{nm}' is not a free variable \"\n",
    "                                f\"in this tensor function\")\n",
    "        # then check that every free variable is bound with a value of\n",
    "        # the correct type\n",
    "        for nm,typ in self._free.items():\n",
    "            val = kwargs.get(nm)\n",
    "            if val is None:\n",
    "                raise TypeError(f\"expected argument '{nm}'\")\n",
    "            T0_check_value(typ,val)\n",
    "        # finally, execute\n",
    "        return Interpreter(kwargs).run(self._expr)\n"
   ]
  },
  {
   "cell_type": "code",
   "execution_count": 38,
   "metadata": {},
   "outputs": [
    {
     "name": "stdout",
     "output_type": "stream",
     "text": [
      "[34.0, 13.3, 46.99999999999999]\n",
      "8.3\n",
      "[[4.0, 0.0, 0.0], [0.0, 7.0, 0.0], [0.0, 0.0, 1.0]]\n"
     ]
    }
   ],
   "source": [
    "Fy = FuncT0(y)\n",
    "Ftr = FuncT0(tr)\n",
    "Fdiag = FuncT0(diag)\n",
    "print( Fy(A = Av, x = xv, c = cv) )\n",
    "print( Ftr(A = Av) )\n",
    "print( Fdiag(x = xv) )"
   ]
  },
  {
   "cell_type": "code",
   "execution_count": null,
   "metadata": {},
   "outputs": [],
   "source": []
  }
 ],
 "metadata": {
  "kernelspec": {
   "display_name": "Python 3",
   "language": "python",
   "name": "python3"
  },
  "language_info": {
   "codemirror_mode": {
    "name": "ipython",
    "version": 3
   },
   "file_extension": ".py",
   "mimetype": "text/x-python",
   "name": "python",
   "nbconvert_exporter": "python",
   "pygments_lexer": "ipython3",
   "version": "3.7.3"
  }
 },
 "nbformat": 4,
 "nbformat_minor": 2
}
